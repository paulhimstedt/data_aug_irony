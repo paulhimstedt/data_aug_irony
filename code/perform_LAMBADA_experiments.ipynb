{
  "cells": [
    {
      "cell_type": "markdown",
      "metadata": {
        "id": "PTJ9TGaBkv1S"
      },
      "source": [
        "# Housekeeping (*installs and imports*)"
      ]
    },
    {
      "cell_type": "markdown",
      "metadata": {
        "id": "lbKym3silKkn"
      },
      "source": [
        "Librarys"
      ]
    },
    {
      "cell_type": "code",
      "execution_count": 1,
      "metadata": {
        "colab": {
          "base_uri": "https://localhost:8080/"
        },
        "id": "l7aVf9u021Dc",
        "outputId": "b92cfdd1-f719-4d84-9fee-2775f45652c4"
      },
      "outputs": [
        {
          "output_type": "stream",
          "name": "stdout",
          "text": [
            "Thu Dec 21 02:50:18 2023       \n",
            "+---------------------------------------------------------------------------------------+\n",
            "| NVIDIA-SMI 535.104.05             Driver Version: 535.104.05   CUDA Version: 12.2     |\n",
            "|-----------------------------------------+----------------------+----------------------+\n",
            "| GPU  Name                 Persistence-M | Bus-Id        Disp.A | Volatile Uncorr. ECC |\n",
            "| Fan  Temp   Perf          Pwr:Usage/Cap |         Memory-Usage | GPU-Util  Compute M. |\n",
            "|                                         |                      |               MIG M. |\n",
            "|=========================================+======================+======================|\n",
            "|   0  Tesla T4                       Off | 00000000:00:04.0 Off |                    0 |\n",
            "| N/A   65C    P8              10W /  70W |      0MiB / 15360MiB |      0%      Default |\n",
            "|                                         |                      |                  N/A |\n",
            "+-----------------------------------------+----------------------+----------------------+\n",
            "                                                                                         \n",
            "+---------------------------------------------------------------------------------------+\n",
            "| Processes:                                                                            |\n",
            "|  GPU   GI   CI        PID   Type   Process name                            GPU Memory |\n",
            "|        ID   ID                                                             Usage      |\n",
            "|=======================================================================================|\n",
            "|  No running processes found                                                           |\n",
            "+---------------------------------------------------------------------------------------+\n"
          ]
        }
      ],
      "source": [
        "!nvidia-smi"
      ]
    },
    {
      "cell_type": "code",
      "execution_count": 2,
      "metadata": {
        "id": "9KgjkLfdlNoN"
      },
      "outputs": [],
      "source": [
        "%%capture\n",
        "!pip install ktrain\n",
        "!pip install transformers\n",
        "!pip install wget\n",
        "!git clone https://github.com/paulhimstedt/data_aug_irony"
      ]
    },
    {
      "cell_type": "code",
      "execution_count": 3,
      "metadata": {
        "id": "amwED9S_lBCC"
      },
      "outputs": [],
      "source": [
        "import wget\n",
        "import ktrain\n",
        "from ktrain import text\n",
        "import pandas as pd\n",
        "import numpy as np\n",
        "import seaborn as sns\n",
        "from sklearn.model_selection import train_test_split\n",
        "from sklearn.metrics import accuracy_score, confusion_matrix, log_loss, roc_auc_score\n",
        "import matplotlib.pyplot as plt\n",
        "from collections import Counter"
      ]
    },
    {
      "cell_type": "markdown",
      "metadata": {
        "id": "uX65f3SfmfrR"
      },
      "source": [
        "Parameters"
      ]
    },
    {
      "cell_type": "code",
      "execution_count": 4,
      "metadata": {
        "id": "W_mjNYvzmil-"
      },
      "outputs": [],
      "source": [
        "GLOBAL_LEARNING_RATE = 10E-05\n",
        "DATASET_NAME = \"iSarcasm\"\n",
        "N_TRAINING_EPOCHS = 12\n",
        "N_TRAINING_EPOCHS_AUGMENTED = 12\n",
        "GLOBAL_BATCH_SIZE = 32\n",
        "GLOBAL_MAXLEN = 128\n",
        "GLOBAL_BERT_MODEL = \"distilbert-base-cased\""
      ]
    },
    {
      "cell_type": "markdown",
      "source": [
        "To generate the entirety of the Results the following to parameter have to be set."
      ],
      "metadata": {
        "id": "ectOUqv-PiNa"
      }
    },
    {
      "cell_type": "code",
      "source": [
        "#TOP_N (range 0-4) accesses the individual percentages.\n",
        "TOP_N =1 #\n",
        "#current_split (range 1-5) selects the subsplin of training data\n",
        "current_split = 3"
      ],
      "metadata": {
        "id": "ML5KwaHgPq7c"
      },
      "execution_count": 5,
      "outputs": []
    },
    {
      "cell_type": "markdown",
      "metadata": {
        "id": "ceyKAJyano9E"
      },
      "source": [
        "## Evaluation method"
      ]
    },
    {
      "cell_type": "markdown",
      "metadata": {
        "id": "orxPuGqELRpp"
      },
      "source": [
        "The following cell calculates relevant metrics"
      ]
    },
    {
      "cell_type": "code",
      "execution_count": 6,
      "metadata": {
        "id": "DoRS1yjwyuKt"
      },
      "outputs": [],
      "source": [
        "from sklearn.metrics import precision_score, recall_score, f1_score\n",
        "#Following def was advised by ChatGPT\n",
        "def specificity_score(y_true, y_pred):\n",
        "    tn, fp, _, _ = confusion_matrix(y_true, y_pred).ravel()\n",
        "    specificity = tn / (tn + fp)\n",
        "    return specificity\n",
        "\n",
        "def evaluate_and_save_results(learner, distil_bert_preproc, eval_data_path, result_file_name):\n",
        "    # Load your predictor\n",
        "    predictor = ktrain.get_predictor(learner.model, preproc=distil_bert_preproc)\n",
        "    print(predictor)\n",
        "    # Load your evaluation data\n",
        "    data_test = pd.read_csv(eval_data_path)\n",
        "    test_intents = data_test[\"intent\"].astype(str).values.tolist()\n",
        "    test_utterances = data_test[\"utterance\"].astype(str).values.tolist()\n",
        "\n",
        "    # Make predictions\n",
        "    predictions = predictor.predict(test_utterances)\n",
        "\n",
        "    np_test_intents = np.array(test_intents)\n",
        "    np_predictions = np.array(predictions)\n",
        "\n",
        "    # Calculate Accuracy\n",
        "    accuracy = accuracy_score(np_test_intents, np_predictions)\n",
        "    accuracy_str = \"Accuracy: {:.2f}%\".format(accuracy * 100)\n",
        "    print(accuracy_str)\n",
        "\n",
        "    # Calculate Confusion Matrix\n",
        "    conf_matrix = confusion_matrix(np_test_intents, np_predictions)\n",
        "\n",
        "    # Calculate Log-loss\n",
        "    predicted_probabilities = predictor.predict_proba(test_utterances)\n",
        "    logloss = log_loss(np_test_intents, predicted_probabilities)\n",
        "    logloss_str = \"Log-loss: {:.4f}\".format(logloss)\n",
        "    print(logloss_str)\n",
        "\n",
        "    # Calculate AUC-ROC\n",
        "    roc_auc = roc_auc_score(np_test_intents, predicted_probabilities[:, 1])\n",
        "    roc_auc_str = \"AUC-ROC: {:.4f}\".format(roc_auc)\n",
        "    print(roc_auc_str)\n",
        "\n",
        "    # Calculate Precision, Recall, F-Score, specificity\n",
        "    precision = precision_score(np_test_intents, np_predictions, average='weighted')\n",
        "    recall = recall_score(np_test_intents, np_predictions, average='weighted')\n",
        "    f_score = f1_score(np_test_intents, np_predictions, average='weighted')\n",
        "    specificity = specificity_score(np_test_intents, np_predictions)\n",
        "\n",
        "    precision_str = \"Precision: {:.4f}\".format(precision)\n",
        "    recall_str = \"Recall: {:.4f}\".format(recall)\n",
        "    f_score_str = \"F-Score: {:.4f}\".format(f_score)\n",
        "    specificity_str = \"Specificity: {:.4f}\".format(specificity)\n",
        "\n",
        "    print(precision_str)\n",
        "    print(recall_str)\n",
        "    print(f_score_str)\n",
        "    print(specificity_str)\n",
        "\n",
        "    # Print other model params\n",
        "    num_trainable_params = sum(np.prod(w.shape) for w in learner.model.trainable_variables)\n",
        "    trainable_params_str = \"Number of Trainable Parameters: {}\".format(num_trainable_params)\n",
        "\n",
        "    # Save results to a text file\n",
        "    with open(result_file_name, 'w') as f:\n",
        "        f.write(accuracy_str + \"\\n\")\n",
        "        f.write(logloss_str + \"\\n\")\n",
        "        f.write(roc_auc_str + \"\\n\")\n",
        "        f.write(precision_str + \"\\n\")\n",
        "        f.write(recall_str + \"\\n\")\n",
        "        f.write(f_score_str + \"\\n\")\n",
        "        f.write(specificity_str + \"\\n\")\n",
        "        f.write(trainable_params_str + \"\\n\")\n",
        "\n",
        "    # Plot and save cm\n",
        "    plt.figure(figsize=(8, 6))\n",
        "    sns.heatmap(conf_matrix, annot=True, fmt='d', cmap='Blues', xticklabels=True, yticklabels=True)\n",
        "    plt.xlabel('Predicted Labels')\n",
        "    plt.ylabel('True Labels')\n",
        "    plt.title('Confusion Matrix')\n",
        "    plt.savefig(result_file_name.replace(\".txt\", \"_confusion_matrix.png\"))"
      ]
    },
    {
      "cell_type": "markdown",
      "metadata": {
        "id": "83dha-q4nEfX"
      },
      "source": [
        "## Load data"
      ]
    },
    {
      "cell_type": "code",
      "execution_count": 7,
      "metadata": {
        "id": "RjXDL_PjhP92"
      },
      "outputs": [],
      "source": [
        "data_train = pd.read_csv(f'/content/data_aug_irony/data/k-fold-training-splits/split_{current_split}.csv')\n",
        "X = data_train['utterance']\n",
        "y = data_train['intent']\n",
        "\n",
        "X_train = []\n",
        "X_valid = []\n",
        "y_train = []\n",
        "y_valid = []\n",
        "\n",
        "# Perform train-test split\n",
        "X_train, X_valid, y_train, y_valid = train_test_split(X, y, test_size=0.2, random_state=42, stratify=y)\n",
        "\n",
        "X_train = X_train.tolist()\n",
        "X_valid = X_valid.tolist()\n",
        "y_train = y_train.tolist()\n",
        "y_valid = y_valid.tolist()\n",
        "\n",
        "X_train = [str(x) for x in X_train]\n",
        "X_valid = [str(x) for x in X_valid]"
      ]
    },
    {
      "cell_type": "code",
      "execution_count": 8,
      "metadata": {
        "colab": {
          "base_uri": "https://localhost:8080/"
        },
        "id": "ExKGDHLlm6KM",
        "outputId": "e2740987-fa8b-438b-9a2f-2e741f839f23"
      },
      "outputs": [
        {
          "output_type": "stream",
          "name": "stdout",
          "text": [
            "Shape of X_train: 555\n",
            "Shape of X_valid: 139\n",
            "Shape of y_train: 555\n",
            "Shape of y_valid: 139\n"
          ]
        }
      ],
      "source": [
        "print(\"Shape of X_train:\", len(X_train))\n",
        "print(\"Shape of X_valid:\", len(X_valid))\n",
        "print(\"Shape of y_train:\", len(y_train))\n",
        "print(\"Shape of y_valid:\", len(y_valid))"
      ]
    },
    {
      "cell_type": "markdown",
      "metadata": {
        "id": "eIIdmaBprDTE"
      },
      "source": [
        "## Utils"
      ]
    },
    {
      "cell_type": "markdown",
      "metadata": {
        "id": "5v5_PmbIrZl8"
      },
      "source": [
        "calculate weights"
      ]
    },
    {
      "cell_type": "code",
      "execution_count": 9,
      "metadata": {
        "id": "ymnR67l3-saZ"
      },
      "outputs": [],
      "source": [
        "import pandas as pd\n",
        "\n",
        "def calculate_class_weights(data_train):\n",
        "    # Count the number of samples for each class\n",
        "    minority_count = len(data_train[data_train['intent'] == \"sarcastic\"])\n",
        "    majority_count = len(data_train[data_train['intent'] == \"not sarcastic\"])\n",
        "\n",
        "    print(f\"Minority Class Count: {minority_count}\")\n",
        "    print(f\"Majority Class Count: {majority_count}\")\n",
        "\n",
        "    # Calculate class weights for adjusted sampling\n",
        "    total_samples = minority_count + majority_count\n",
        "\n",
        "    class_weight = {\n",
        "        0: total_samples / (2 * majority_count),\n",
        "        1: total_samples / (2 * minority_count)\n",
        "    }\n",
        "    print(class_weight)\n",
        "    return class_weight"
      ]
    },
    {
      "cell_type": "code",
      "execution_count": 10,
      "metadata": {
        "colab": {
          "base_uri": "https://localhost:8080/"
        },
        "id": "zZuxh0-frYnT",
        "outputId": "abe2f2cd-22d1-471e-f650-89916f1ce201"
      },
      "outputs": [
        {
          "output_type": "stream",
          "name": "stdout",
          "text": [
            "Minority Class Count: 173\n",
            "Majority Class Count: 521\n"
          ]
        }
      ],
      "source": [
        "# Count the number of samples for each class\n",
        "minority_count = len(data_train[data_train['intent'] == \"sarcastic\"])\n",
        "majority_count = len(data_train[data_train['intent'] == \"not sarcastic\"])\n",
        "\n",
        "print(f\"Minority Class Count: {minority_count}\")\n",
        "print(f\"Majority Class Count: {majority_count}\")"
      ]
    },
    {
      "cell_type": "code",
      "execution_count": 11,
      "metadata": {
        "colab": {
          "base_uri": "https://localhost:8080/"
        },
        "id": "Bfyw87oSre6V",
        "outputId": "524d8b62-4066-49cb-c77d-fe6e0efd048b"
      },
      "outputs": [
        {
          "output_type": "stream",
          "name": "stdout",
          "text": [
            "{0: 0.6660268714011516, 1: 2.005780346820809}\n"
          ]
        }
      ],
      "source": [
        "# Calculate class weights for adjusted sampling\n",
        "\n",
        "total_samples = minority_count + majority_count\n",
        "\n",
        "class_weight = {\n",
        "    0: total_samples / (2 * majority_count),\n",
        "    1: total_samples / (2 * minority_count)\n",
        "}\n",
        "print(class_weight)"
      ]
    },
    {
      "cell_type": "markdown",
      "metadata": {
        "id": "sRz4WHMArPY4"
      },
      "source": [
        "prepare augmentation ratios"
      ]
    },
    {
      "cell_type": "markdown",
      "source": [
        "This code was reworked by ChatGPT"
      ],
      "metadata": {
        "id": "J1z1OADmQK_L"
      }
    },
    {
      "cell_type": "code",
      "execution_count": 12,
      "metadata": {
        "colab": {
          "base_uri": "https://localhost:8080/"
        },
        "id": "MITvFXnfR5dh",
        "outputId": "fa4322e4-bee4-4334-90c9-0d60e9f91e70"
      },
      "outputs": [
        {
          "output_type": "stream",
          "name": "stdout",
          "text": [
            "percent_5: 34.7\n"
          ]
        }
      ],
      "source": [
        "split_size = minority_count + majority_count\n",
        "\n",
        "percentage_split_list = [0.01, 0.05, 0.1, 0.25, 0.5, (majority_count - minority_count)/split_size]  # Example percentages\n",
        "\n",
        "percent_names = [\"percent_1\", \"percent_5\", \"percent_10\", \"percent_25\", \"percent_50\", \"percent_weighted\"]\n",
        "\n",
        "# Create a dictionary to store the values\n",
        "percent_dict = {name: split_size * percentage for name, percentage in zip(percent_names, percentage_split_list)}\n",
        "\n",
        "# Create a list with the calculated values\n",
        "percent_of_augmentation = list(percent_dict.values())\n",
        "\n",
        "# Access values by index\n",
        "percent_1_value = percent_of_augmentation[TOP_N]\n",
        "print(f\"{percent_names[TOP_N]}: {percent_1_value}\")"
      ]
    },
    {
      "cell_type": "markdown",
      "metadata": {
        "id": "H9KAcb6SuPoF"
      },
      "source": [
        "# Train baseline classifiers"
      ]
    },
    {
      "cell_type": "markdown",
      "metadata": {
        "id": "fp-lnusVqO1m"
      },
      "source": [
        "## Train baseline classifier"
      ]
    },
    {
      "cell_type": "markdown",
      "metadata": {
        "id": "TYEJlk4_nKIT"
      },
      "source": [
        "### Initialize model and learner"
      ]
    },
    {
      "cell_type": "code",
      "execution_count": 13,
      "metadata": {
        "id": "xpNLQTKcnKnY",
        "colab": {
          "base_uri": "https://localhost:8080/",
          "height": 81,
          "referenced_widgets": [
            "5cfc680bf2d24f5aa019d50dd77d6155",
            "660fcb6623e1467fac1268f2484afe34",
            "8c7eba36bf8c43afa4cb77578ec53b5f",
            "12cdf68a438045a69bdc909243d3782e",
            "d4920cd1a436488b89e276595f7b3f91",
            "04fc85d43315487082ff5b60a3da3d42",
            "208e5f7652334c2791d439602993d9c7",
            "1236e40ee7a948b394257bbe2dbe1d51",
            "ec68c2cea0404f5b8b8a12fef1fa8ffb",
            "6791ff732edc4d38a63428a8101d8a66",
            "48077939ca004c97b3547327b025bf40",
            "f1143fb59aa446aab44a5ab0caa4b24f",
            "1369a8e5937a435e919aa9ba185a5ea2",
            "d77a68155c0e4e1d82bb3bf22147714b",
            "742d69f5d6884f24bc335bcb573c354f",
            "4f946a3ecf5144abb2d5440ec22197b4",
            "fefff765fc5548adab1e641c19c789e5",
            "390341ff35b0428884ed084328445b05",
            "ec0fa279c51d4b17a8c5b2a2152d4a53",
            "9e617649f4d846d386f86f1c39b494eb",
            "61c34637afb340fabdfcde578d81869f",
            "4356bb724c2049dba9844c6f00bb0923"
          ]
        },
        "outputId": "f9a7896c-1153-45ea-f7ef-0b0ae4804d34"
      },
      "outputs": [
        {
          "output_type": "display_data",
          "data": {
            "text/plain": [
              "config.json:   0%|          | 0.00/465 [00:00<?, ?B/s]"
            ],
            "application/vnd.jupyter.widget-view+json": {
              "version_major": 2,
              "version_minor": 0,
              "model_id": "5cfc680bf2d24f5aa019d50dd77d6155"
            }
          },
          "metadata": {}
        },
        {
          "output_type": "display_data",
          "data": {
            "text/plain": [
              "model.safetensors:   0%|          | 0.00/263M [00:00<?, ?B/s]"
            ],
            "application/vnd.jupyter.widget-view+json": {
              "version_major": 2,
              "version_minor": 0,
              "model_id": "f1143fb59aa446aab44a5ab0caa4b24f"
            }
          },
          "metadata": {}
        }
      ],
      "source": [
        "distil_bert_baseline = text.Transformer(GLOBAL_BERT_MODEL, maxlen=GLOBAL_MAXLEN)"
      ]
    },
    {
      "cell_type": "code",
      "execution_count": 14,
      "metadata": {
        "colab": {
          "base_uri": "https://localhost:8080/",
          "height": 339,
          "referenced_widgets": [
            "9028b142194b4119821e00c9e0652146",
            "78962c6556244ca4b23720052f7feffc",
            "96f514920781408182694c74f5a6b95f",
            "87004db6f0014230bcb36fdf9e971536",
            "5d4cf97331ac44769d7375c27e696102",
            "856ed066ffdc455aab9c288e1f57f09d",
            "0b4f3e74a8424958af31c5596cfb6824",
            "1e8490bdbe9840e4ba4c5e19687350f1",
            "ea6be591e0754fa49b34af51870bf154",
            "423b291daf46498a9e220e6e83a500c1",
            "fea16b65d4da4e94ab7f0f26877f4766",
            "7652fb5366ff456baf1e01b2b79cbc60",
            "4b26434fd49b43de9cb9872b3045c00b",
            "4fc5015191aa4ce8851f95233d8f4edd",
            "2337895e0ab04e17b7e5570138abeec3",
            "22b3978717de4b318140e155eb302d16",
            "b2620576141641918825ecf012d67c15",
            "5a89040316b748ea8b8d5e48d7d6f021",
            "7c0e244c925345dbbfa21ba7c48563b7",
            "30c51afb21804721b32b3bcd0a21aca6",
            "f12480f1e91c4d6cb9e64caeb83a4053",
            "45b45d42ba4742459cf808899723fa1f",
            "981a1d394fda46f78c58c894126341c4",
            "5176403fd98047acb0cd77933b1ffa82",
            "09bfdfb266f34d54aabdad41d5fc1017",
            "c571a9783e294bb2910a04ede7ce15ca",
            "c9af556971784664af39c5c99038ce1a",
            "86a3f5dc64b84b0f85a8a33fe97344c1",
            "15b9dcedc7fa4d2b8cfaf5b63adceaaa",
            "d514a198a40d4c68b55738d18f961df0",
            "e31213c584b1466f994e834c84a1102b",
            "4323afb950cf42ce86e79b5a04795652",
            "6181eee818754b5cb069ab2425752b07"
          ]
        },
        "id": "PJhcENlMnOwq",
        "outputId": "e236d0e3-7383-4535-a5a2-16eb0a0a26b0"
      },
      "outputs": [
        {
          "output_type": "stream",
          "name": "stdout",
          "text": [
            "preprocessing train...\n",
            "language: en\n",
            "train sequence lengths:\n",
            "\tmean : 19\n",
            "\t95percentile : 43\n",
            "\t99percentile : 52\n"
          ]
        },
        {
          "output_type": "display_data",
          "data": {
            "text/plain": [
              "tokenizer_config.json:   0%|          | 0.00/29.0 [00:00<?, ?B/s]"
            ],
            "application/vnd.jupyter.widget-view+json": {
              "version_major": 2,
              "version_minor": 0,
              "model_id": "9028b142194b4119821e00c9e0652146"
            }
          },
          "metadata": {}
        },
        {
          "output_type": "display_data",
          "data": {
            "text/plain": [
              "vocab.txt:   0%|          | 0.00/213k [00:00<?, ?B/s]"
            ],
            "application/vnd.jupyter.widget-view+json": {
              "version_major": 2,
              "version_minor": 0,
              "model_id": "7652fb5366ff456baf1e01b2b79cbc60"
            }
          },
          "metadata": {}
        },
        {
          "output_type": "display_data",
          "data": {
            "text/plain": [
              "tokenizer.json:   0%|          | 0.00/436k [00:00<?, ?B/s]"
            ],
            "application/vnd.jupyter.widget-view+json": {
              "version_major": 2,
              "version_minor": 0,
              "model_id": "981a1d394fda46f78c58c894126341c4"
            }
          },
          "metadata": {}
        },
        {
          "output_type": "display_data",
          "data": {
            "text/plain": [
              "<IPython.core.display.HTML object>"
            ],
            "text/html": [
              "\n",
              "<style>\n",
              "    /* Turns off some styling */\n",
              "    progress {\n",
              "        /* gets rid of default border in Firefox and Opera. */\n",
              "        border: none;\n",
              "        /* Needs to be in here for Safari polyfill so background images work as expected. */\n",
              "        background-size: auto;\n",
              "    }\n",
              "    progress:not([value]), progress:not([value])::-webkit-progress-bar {\n",
              "        background: repeating-linear-gradient(45deg, #7e7e7e, #7e7e7e 10px, #5c5c5c 10px, #5c5c5c 20px);\n",
              "    }\n",
              "    .progress-bar-interrupted, .progress-bar-interrupted::-webkit-progress-bar {\n",
              "        background: #F44336;\n",
              "    }\n",
              "</style>\n"
            ]
          },
          "metadata": {}
        },
        {
          "output_type": "display_data",
          "data": {
            "text/plain": [
              "<IPython.core.display.HTML object>"
            ],
            "text/html": []
          },
          "metadata": {}
        },
        {
          "output_type": "stream",
          "name": "stdout",
          "text": [
            "Is Multi-Label? False\n",
            "preprocessing test...\n",
            "language: en\n",
            "test sequence lengths:\n",
            "\tmean : 19\n",
            "\t95percentile : 41\n",
            "\t99percentile : 47\n"
          ]
        },
        {
          "output_type": "display_data",
          "data": {
            "text/plain": [
              "<IPython.core.display.HTML object>"
            ],
            "text/html": [
              "\n",
              "<style>\n",
              "    /* Turns off some styling */\n",
              "    progress {\n",
              "        /* gets rid of default border in Firefox and Opera. */\n",
              "        border: none;\n",
              "        /* Needs to be in here for Safari polyfill so background images work as expected. */\n",
              "        background-size: auto;\n",
              "    }\n",
              "    progress:not([value]), progress:not([value])::-webkit-progress-bar {\n",
              "        background: repeating-linear-gradient(45deg, #7e7e7e, #7e7e7e 10px, #5c5c5c 10px, #5c5c5c 20px);\n",
              "    }\n",
              "    .progress-bar-interrupted, .progress-bar-interrupted::-webkit-progress-bar {\n",
              "        background: #F44336;\n",
              "    }\n",
              "</style>\n"
            ]
          },
          "metadata": {}
        },
        {
          "output_type": "display_data",
          "data": {
            "text/plain": [
              "<IPython.core.display.HTML object>"
            ],
            "text/html": []
          },
          "metadata": {}
        }
      ],
      "source": [
        "processed_train = distil_bert_baseline.preprocess_train(X_train, y_train)\n",
        "processed_test = distil_bert_baseline.preprocess_test(X_valid, y_valid)\n",
        "\n",
        "model_baseline = distil_bert_baseline.get_classifier()\n",
        "learner_baseline = ktrain.get_learner(model_baseline, train_data=processed_train, val_data=processed_test, batch_size=GLOBAL_BATCH_SIZE)"
      ]
    },
    {
      "cell_type": "markdown",
      "metadata": {
        "id": "F_ODth-Lu0N_"
      },
      "source": [
        "### Train classifier"
      ]
    },
    {
      "cell_type": "code",
      "execution_count": 15,
      "metadata": {
        "colab": {
          "base_uri": "https://localhost:8080/"
        },
        "id": "_Cs38mZKnxRl",
        "outputId": "66c173c0-5bd3-440f-8dbe-b6bd7ed6fee8"
      },
      "outputs": [
        {
          "output_type": "stream",
          "name": "stdout",
          "text": [
            "\n",
            "\n",
            "begin training using onecycle policy with max lr of 0.0001...\n",
            "Epoch 1/12\n",
            "18/18 [==============================] - 31s 556ms/step - loss: 0.6144 - accuracy: 0.7243 - val_loss: 0.5657 - val_accuracy: 0.7482\n",
            "Epoch 2/12\n",
            "18/18 [==============================] - 7s 404ms/step - loss: 0.5604 - accuracy: 0.7514 - val_loss: 0.5647 - val_accuracy: 0.7482\n",
            "Epoch 3/12\n",
            "18/18 [==============================] - 7s 412ms/step - loss: 0.5378 - accuracy: 0.7514 - val_loss: 0.5696 - val_accuracy: 0.7482\n",
            "Epoch 4/12\n",
            "18/18 [==============================] - 7s 411ms/step - loss: 0.3936 - accuracy: 0.8180 - val_loss: 0.8149 - val_accuracy: 0.5324\n",
            "Epoch 5/12\n",
            "18/18 [==============================] - 7s 416ms/step - loss: 0.2298 - accuracy: 0.9225 - val_loss: 1.0801 - val_accuracy: 0.7338\n",
            "Epoch 6/12\n",
            "18/18 [==============================] - 8s 424ms/step - loss: 0.1043 - accuracy: 0.9712 - val_loss: 1.1896 - val_accuracy: 0.6475\n",
            "Epoch 7/12\n",
            "18/18 [==============================] - 8s 425ms/step - loss: 0.0548 - accuracy: 0.9820 - val_loss: 1.4942 - val_accuracy: 0.7122\n",
            "Epoch 8/12\n",
            "18/18 [==============================] - 8s 419ms/step - loss: 0.0410 - accuracy: 0.9838 - val_loss: 1.3942 - val_accuracy: 0.6187\n",
            "Epoch 9/12\n",
            "18/18 [==============================] - 7s 413ms/step - loss: 0.0415 - accuracy: 0.9892 - val_loss: 1.5010 - val_accuracy: 0.6906\n",
            "Epoch 10/12\n",
            "18/18 [==============================] - 7s 415ms/step - loss: 0.0260 - accuracy: 0.9928 - val_loss: 1.3676 - val_accuracy: 0.6835\n",
            "Epoch 11/12\n",
            "18/18 [==============================] - 7s 417ms/step - loss: 0.0171 - accuracy: 0.9946 - val_loss: 1.4324 - val_accuracy: 0.6835\n",
            "Epoch 12/12\n",
            "18/18 [==============================] - 7s 412ms/step - loss: 0.0125 - accuracy: 0.9964 - val_loss: 1.4231 - val_accuracy: 0.6763\n"
          ]
        },
        {
          "output_type": "execute_result",
          "data": {
            "text/plain": [
              "<keras.src.callbacks.History at 0x7e119d9cd090>"
            ]
          },
          "metadata": {},
          "execution_count": 15
        }
      ],
      "source": [
        "learner_baseline.fit_onecycle(GLOBAL_LEARNING_RATE, N_TRAINING_EPOCHS)"
      ]
    },
    {
      "cell_type": "code",
      "source": [
        "predictor = ktrain.get_predictor(learner_baseline.model, preproc=distil_bert_baseline)"
      ],
      "metadata": {
        "id": "qImnmD8fwCGe"
      },
      "execution_count": 16,
      "outputs": []
    },
    {
      "cell_type": "markdown",
      "source": [
        "Evaluate"
      ],
      "metadata": {
        "id": "yCyMWlymQeAB"
      }
    },
    {
      "cell_type": "code",
      "execution_count": 17,
      "metadata": {
        "id": "rc6KbKZBoOT7",
        "colab": {
          "base_uri": "https://localhost:8080/",
          "height": 703
        },
        "outputId": "59efd62a-e742-4a7e-d196-ed9bf7c2ee09"
      },
      "outputs": [
        {
          "output_type": "stream",
          "name": "stdout",
          "text": [
            "<ktrain.text.predictor.TextPredictor object at 0x7e119d91b520>\n",
            "Accuracy: 73.07%\n",
            "Log-loss: 1.0343\n",
            "AUC-ROC: 0.5331\n",
            "Precision: 0.7612\n",
            "Recall: 0.7307\n",
            "F-Score: 0.7450\n",
            "Specificity: 0.8175\n"
          ]
        },
        {
          "output_type": "display_data",
          "data": {
            "text/plain": [
              "<Figure size 800x600 with 2 Axes>"
            ],
            "image/png": "[encoded data removed]"
          },
          "metadata": {}
        }
      ],
      "source": [
        "evaluate_and_save_results(learner_baseline, distil_bert_baseline, '/content/data_aug_irony/data/eval.csv', 'evaluation_results_baseline.txt')"
      ]
    },
    {
      "cell_type": "markdown",
      "metadata": {
        "id": "PHYOrvtsqR1P"
      },
      "source": [
        "## Train weighted baseline classifier"
      ]
    },
    {
      "cell_type": "markdown",
      "metadata": {
        "id": "QXY-Iq-ru_6S"
      },
      "source": [
        "### Initialize model and learner"
      ]
    },
    {
      "cell_type": "code",
      "execution_count": 18,
      "metadata": {
        "id": "5kQvVwFAqXex"
      },
      "outputs": [],
      "source": [
        "distil_bert_baseline_weighted = text.Transformer(GLOBAL_BERT_MODEL, maxlen=GLOBAL_MAXLEN)"
      ]
    },
    {
      "cell_type": "code",
      "execution_count": 19,
      "metadata": {
        "id": "eQqnVX0rsM8h",
        "colab": {
          "base_uri": "https://localhost:8080/",
          "height": 243
        },
        "outputId": "da0088e4-d460-42fe-b9ee-756696894d8b"
      },
      "outputs": [
        {
          "output_type": "stream",
          "name": "stdout",
          "text": [
            "preprocessing train...\n",
            "language: en\n",
            "train sequence lengths:\n",
            "\tmean : 19\n",
            "\t95percentile : 43\n",
            "\t99percentile : 52\n"
          ]
        },
        {
          "output_type": "display_data",
          "data": {
            "text/plain": [
              "<IPython.core.display.HTML object>"
            ],
            "text/html": [
              "\n",
              "<style>\n",
              "    /* Turns off some styling */\n",
              "    progress {\n",
              "        /* gets rid of default border in Firefox and Opera. */\n",
              "        border: none;\n",
              "        /* Needs to be in here for Safari polyfill so background images work as expected. */\n",
              "        background-size: auto;\n",
              "    }\n",
              "    progress:not([value]), progress:not([value])::-webkit-progress-bar {\n",
              "        background: repeating-linear-gradient(45deg, #7e7e7e, #7e7e7e 10px, #5c5c5c 10px, #5c5c5c 20px);\n",
              "    }\n",
              "    .progress-bar-interrupted, .progress-bar-interrupted::-webkit-progress-bar {\n",
              "        background: #F44336;\n",
              "    }\n",
              "</style>\n"
            ]
          },
          "metadata": {}
        },
        {
          "output_type": "display_data",
          "data": {
            "text/plain": [
              "<IPython.core.display.HTML object>"
            ],
            "text/html": []
          },
          "metadata": {}
        },
        {
          "output_type": "stream",
          "name": "stdout",
          "text": [
            "Is Multi-Label? False\n",
            "preprocessing test...\n",
            "language: en\n",
            "test sequence lengths:\n",
            "\tmean : 19\n",
            "\t95percentile : 41\n",
            "\t99percentile : 47\n"
          ]
        },
        {
          "output_type": "display_data",
          "data": {
            "text/plain": [
              "<IPython.core.display.HTML object>"
            ],
            "text/html": [
              "\n",
              "<style>\n",
              "    /* Turns off some styling */\n",
              "    progress {\n",
              "        /* gets rid of default border in Firefox and Opera. */\n",
              "        border: none;\n",
              "        /* Needs to be in here for Safari polyfill so background images work as expected. */\n",
              "        background-size: auto;\n",
              "    }\n",
              "    progress:not([value]), progress:not([value])::-webkit-progress-bar {\n",
              "        background: repeating-linear-gradient(45deg, #7e7e7e, #7e7e7e 10px, #5c5c5c 10px, #5c5c5c 20px);\n",
              "    }\n",
              "    .progress-bar-interrupted, .progress-bar-interrupted::-webkit-progress-bar {\n",
              "        background: #F44336;\n",
              "    }\n",
              "</style>\n"
            ]
          },
          "metadata": {}
        },
        {
          "output_type": "display_data",
          "data": {
            "text/plain": [
              "<IPython.core.display.HTML object>"
            ],
            "text/html": []
          },
          "metadata": {}
        }
      ],
      "source": [
        "processed_train = distil_bert_baseline_weighted.preprocess_train(X_train, y_train)\n",
        "processed_test = distil_bert_baseline_weighted.preprocess_test(X_valid, y_valid)\n",
        "\n",
        "model_baseline_weighted = distil_bert_baseline.get_classifier()\n",
        "learner_baseline_weighted = ktrain.get_learner(model_baseline_weighted, train_data=processed_train, val_data=processed_test, batch_size=GLOBAL_BATCH_SIZE)"
      ]
    },
    {
      "cell_type": "markdown",
      "metadata": {
        "id": "45XbiGvJvIfh"
      },
      "source": [
        "### Train classifier"
      ]
    },
    {
      "cell_type": "code",
      "execution_count": 20,
      "metadata": {
        "id": "zFnNj5IAsPBB",
        "colab": {
          "base_uri": "https://localhost:8080/"
        },
        "outputId": "6a765dbe-fa5e-4025-974f-5451e33e37f1"
      },
      "outputs": [
        {
          "output_type": "stream",
          "name": "stdout",
          "text": [
            "\n",
            "\n",
            "begin training using onecycle policy with max lr of 0.0001...\n",
            "Epoch 1/12\n",
            "18/18 [==============================] - 16s 501ms/step - loss: 0.6939 - accuracy: 0.6234 - val_loss: 0.7123 - val_accuracy: 0.2662\n",
            "Epoch 2/12\n",
            "18/18 [==============================] - 8s 425ms/step - loss: 0.6634 - accuracy: 0.5946 - val_loss: 0.6310 - val_accuracy: 0.5827\n",
            "Epoch 3/12\n",
            "18/18 [==============================] - 8s 421ms/step - loss: 0.5618 - accuracy: 0.6811 - val_loss: 0.7642 - val_accuracy: 0.3381\n",
            "Epoch 4/12\n",
            "18/18 [==============================] - 8s 419ms/step - loss: 0.4104 - accuracy: 0.8432 - val_loss: 1.3528 - val_accuracy: 0.4676\n",
            "Epoch 5/12\n",
            "18/18 [==============================] - 8s 419ms/step - loss: 0.1374 - accuracy: 0.9514 - val_loss: 1.2477 - val_accuracy: 0.5827\n",
            "Epoch 6/12\n",
            "18/18 [==============================] - 7s 415ms/step - loss: 0.0569 - accuracy: 0.9766 - val_loss: 1.3969 - val_accuracy: 0.7122\n",
            "Epoch 7/12\n",
            "18/18 [==============================] - 7s 415ms/step - loss: 0.0609 - accuracy: 0.9694 - val_loss: 1.4578 - val_accuracy: 0.5612\n",
            "Epoch 8/12\n",
            "18/18 [==============================] - 7s 411ms/step - loss: 0.0974 - accuracy: 0.9640 - val_loss: 1.1303 - val_accuracy: 0.7266\n",
            "Epoch 9/12\n",
            "18/18 [==============================] - 7s 413ms/step - loss: 0.0770 - accuracy: 0.9694 - val_loss: 1.1349 - val_accuracy: 0.6978\n",
            "Epoch 10/12\n",
            "18/18 [==============================] - 7s 411ms/step - loss: 0.0105 - accuracy: 0.9982 - val_loss: 1.3478 - val_accuracy: 0.7050\n",
            "Epoch 11/12\n",
            "18/18 [==============================] - 7s 413ms/step - loss: 0.0061 - accuracy: 0.9982 - val_loss: 1.4130 - val_accuracy: 0.7050\n",
            "Epoch 12/12\n",
            "18/18 [==============================] - 7s 411ms/step - loss: 0.0047 - accuracy: 0.9982 - val_loss: 1.4334 - val_accuracy: 0.6978\n"
          ]
        },
        {
          "output_type": "execute_result",
          "data": {
            "text/plain": [
              "<keras.src.callbacks.History at 0x7e11973966e0>"
            ]
          },
          "metadata": {},
          "execution_count": 20
        }
      ],
      "source": [
        "learner_baseline_weighted.fit_onecycle(GLOBAL_LEARNING_RATE, N_TRAINING_EPOCHS,  class_weight=class_weight)"
      ]
    },
    {
      "cell_type": "code",
      "execution_count": 21,
      "metadata": {
        "id": "LlZXbq6FsQ1-",
        "colab": {
          "base_uri": "https://localhost:8080/",
          "height": 703
        },
        "outputId": "ebd5f854-3fcb-4821-9b4e-98a1a7c0a882"
      },
      "outputs": [
        {
          "output_type": "stream",
          "name": "stdout",
          "text": [
            "<ktrain.text.predictor.TextPredictor object at 0x7e119b377730>\n",
            "Accuracy: 71.29%\n",
            "Log-loss: 1.3152\n",
            "AUC-ROC: 0.4989\n",
            "Precision: 0.7566\n",
            "Recall: 0.7129\n",
            "F-Score: 0.7329\n",
            "Specificity: 0.7967\n"
          ]
        },
        {
          "output_type": "display_data",
          "data": {
            "text/plain": [
              "<Figure size 800x600 with 2 Axes>"
            ],
            "image/png": "[encoded data removed]"
          },
          "metadata": {}
        }
      ],
      "source": [
        "evaluate_and_save_results(learner_baseline_weighted, distil_bert_baseline_weighted, '/content/data_aug_irony/data/eval.csv', 'evaluation_results_baseline_weighted.txt')"
      ]
    },
    {
      "cell_type": "markdown",
      "metadata": {
        "id": "F4gBSjrqvYwI"
      },
      "source": [
        "# Train classifiers with augmented data"
      ]
    },
    {
      "cell_type": "markdown",
      "metadata": {
        "id": "QU-gCOJ0wGcb"
      },
      "source": [
        "## Data preperations GPT2"
      ]
    },
    {
      "cell_type": "markdown",
      "source": [
        "The following 6 cells were adapted from the implementation by Steadforce. This is the filtering process described by anaby-tavor. It takes the entirety of generated instances and filters it using the baseline if the generated intent does match the predicted intent (https://www.steadforce.com/how-tos/lambada-method-how-to-use-data-augmentation-in-nlu)"
      ],
      "metadata": {
        "id": "tmSIPxwEQn6j"
      }
    },
    {
      "cell_type": "code",
      "execution_count": 22,
      "metadata": {
        "id": "rruwd8BrwLce"
      },
      "outputs": [],
      "source": [
        "augmented_data_gpt2 = pd.read_csv(\"/content/data_aug_irony/data/generated_data/gpt2/generated.csv\")\n",
        "augmented_data_gpt2 = augmented_data_gpt2.assign(utterance=[utterance.replace('!', '') for utterance in augmented_data_gpt2['utterance']])"
      ]
    },
    {
      "cell_type": "code",
      "execution_count": 23,
      "metadata": {
        "id": "guDFR64Kx-yj"
      },
      "outputs": [],
      "source": [
        "def generate_predictions(predictor, generated_data):\n",
        "    # Predict intents and probabilities\n",
        "    predictions_for_generated = np.array(predictor.predict(generated_data['utterance'].tolist(), return_proba=False))\n",
        "    proba_for_predictions_for_gen = predictor.predict(generated_data['utterance'].tolist(), return_proba=True)\n",
        "\n",
        "    # Extract maximum probabilities for each prediction\n",
        "    predicted_proba = np.array([max(probas) for probas in proba_for_predictions_for_gen])\n",
        "\n",
        "    # Create a new DataFrame with the results\n",
        "    generated_data_predicted = pd.DataFrame({\n",
        "        \"intent\": generated_data['intent'],\n",
        "        \"utterance\": generated_data['utterance'],\n",
        "        \"predicted_intent\": predictions_for_generated,\n",
        "        \"prediction_proba\": predicted_proba\n",
        "    })\n",
        "\n",
        "    return generated_data_predicted"
      ]
    },
    {
      "cell_type": "code",
      "execution_count": 24,
      "metadata": {
        "id": "cYnpPylMziuL"
      },
      "outputs": [],
      "source": [
        "def filter_generated_data(generated_data):\n",
        "  correctly_predicted_data = generated_data[generated_data['intent'] == generated_data['predicted_intent']]\n",
        "  print(f\"Original length: {generated_data['utterance'].shape[0]} was shortened to {correctly_predicted_data['utterance'].shape[0]}\")\n",
        "  return correctly_predicted_data"
      ]
    },
    {
      "cell_type": "code",
      "execution_count": 25,
      "metadata": {
        "id": "r7-FRr-DykN1",
        "colab": {
          "base_uri": "https://localhost:8080/",
          "height": 206
        },
        "outputId": "ecdfe5e3-9556-473b-f4a9-c1a7ddc43659"
      },
      "outputs": [
        {
          "output_type": "execute_result",
          "data": {
            "text/plain": [
              "      intent                                          utterance  \\\n",
              "0  sarcastic  I've seen people say that their last pizza was...   \n",
              "1  sarcastic  I dont understand how anyone can support the k...   \n",
              "2  sarcastic  Trying to stream My Little Pony: Friendship is...   \n",
              "3  sarcastic  i love it when the people at school ask me if ...   \n",
              "4  sarcastic  They said it would be a few days until we star...   \n",
              "\n",
              "  predicted_intent  prediction_proba  \n",
              "0    not sarcastic          0.994384  \n",
              "1    not sarcastic          0.998493  \n",
              "2    not sarcastic          0.995112  \n",
              "3    not sarcastic          0.983774  \n",
              "4    not sarcastic          0.927920  "
            ],
            "text/html": [
              "\n",
              "  <div id=\"df-c5f762e2-4eac-4f60-9a97-667a4dbcf157\" class=\"colab-df-container\">\n",
              "    <div>\n",
              "<style scoped>\n",
              "    .dataframe tbody tr th:only-of-type {\n",
              "        vertical-align: middle;\n",
              "    }\n",
              "\n",
              "    .dataframe tbody tr th {\n",
              "        vertical-align: top;\n",
              "    }\n",
              "\n",
              "    .dataframe thead th {\n",
              "        text-align: right;\n",
              "    }\n",
              "</style>\n",
              "<table border=\"1\" class=\"dataframe\">\n",
              "  <thead>\n",
              "    <tr style=\"text-align: right;\">\n",
              "      <th></th>\n",
              "      <th>intent</th>\n",
              "      <th>utterance</th>\n",
              "      <th>predicted_intent</th>\n",
              "      <th>prediction_proba</th>\n",
              "    </tr>\n",
              "  </thead>\n",
              "  <tbody>\n",
              "    <tr>\n",
              "      <th>0</th>\n",
              "      <td>sarcastic</td>\n",
              "      <td>I've seen people say that their last pizza was...</td>\n",
              "      <td>not sarcastic</td>\n",
              "      <td>0.994384</td>\n",
              "    </tr>\n",
              "    <tr>\n",
              "      <th>1</th>\n",
              "      <td>sarcastic</td>\n",
              "      <td>I dont understand how anyone can support the k...</td>\n",
              "      <td>not sarcastic</td>\n",
              "      <td>0.998493</td>\n",
              "    </tr>\n",
              "    <tr>\n",
              "      <th>2</th>\n",
              "      <td>sarcastic</td>\n",
              "      <td>Trying to stream My Little Pony: Friendship is...</td>\n",
              "      <td>not sarcastic</td>\n",
              "      <td>0.995112</td>\n",
              "    </tr>\n",
              "    <tr>\n",
              "      <th>3</th>\n",
              "      <td>sarcastic</td>\n",
              "      <td>i love it when the people at school ask me if ...</td>\n",
              "      <td>not sarcastic</td>\n",
              "      <td>0.983774</td>\n",
              "    </tr>\n",
              "    <tr>\n",
              "      <th>4</th>\n",
              "      <td>sarcastic</td>\n",
              "      <td>They said it would be a few days until we star...</td>\n",
              "      <td>not sarcastic</td>\n",
              "      <td>0.927920</td>\n",
              "    </tr>\n",
              "  </tbody>\n",
              "</table>\n",
              "</div>\n",
              "    <div class=\"colab-df-buttons\">\n",
              "\n",
              "  <div class=\"colab-df-container\">\n",
              "    <button class=\"colab-df-convert\" onclick=\"convertToInteractive('df-c5f762e2-4eac-4f60-9a97-667a4dbcf157')\"\n",
              "            title=\"Convert this dataframe to an interactive table.\"\n",
              "            style=\"display:none;\">\n",
              "\n",
              "  <svg xmlns=\"http://www.w3.org/2000/svg\" height=\"24px\" viewBox=\"0 -960 960 960\">\n",
              "    <path d=\"M120-120v-720h720v720H120Zm60-500h600v-160H180v160Zm220 220h160v-160H400v160Zm0 220h160v-160H400v160ZM180-400h160v-160H180v160Zm440 0h160v-160H620v160ZM180-180h160v-160H180v160Zm440 0h160v-160H620v160Z\"/>\n",
              "  </svg>\n",
              "    </button>\n",
              "\n",
              "  <style>\n",
              "    .colab-df-container {\n",
              "      display:flex;\n",
              "      gap: 12px;\n",
              "    }\n",
              "\n",
              "    .colab-df-convert {\n",
              "      background-color: #E8F0FE;\n",
              "      border: none;\n",
              "      border-radius: 50%;\n",
              "      cursor: pointer;\n",
              "      display: none;\n",
              "      fill: #1967D2;\n",
              "      height: 32px;\n",
              "      padding: 0 0 0 0;\n",
              "      width: 32px;\n",
              "    }\n",
              "\n",
              "    .colab-df-convert:hover {\n",
              "      background-color: #E2EBFA;\n",
              "      box-shadow: 0px 1px 2px rgba(60, 64, 67, 0.3), 0px 1px 3px 1px rgba(60, 64, 67, 0.15);\n",
              "      fill: #174EA6;\n",
              "    }\n",
              "\n",
              "    .colab-df-buttons div {\n",
              "      margin-bottom: 4px;\n",
              "    }\n",
              "\n",
              "    [theme=dark] .colab-df-convert {\n",
              "      background-color: #3B4455;\n",
              "      fill: #D2E3FC;\n",
              "    }\n",
              "\n",
              "    [theme=dark] .colab-df-convert:hover {\n",
              "      background-color: #434B5C;\n",
              "      box-shadow: 0px 1px 3px 1px rgba(0, 0, 0, 0.15);\n",
              "      filter: drop-shadow(0px 1px 2px rgba(0, 0, 0, 0.3));\n",
              "      fill: #FFFFFF;\n",
              "    }\n",
              "  </style>\n",
              "\n",
              "    <script>\n",
              "      const buttonEl =\n",
              "        document.querySelector('#df-c5f762e2-4eac-4f60-9a97-667a4dbcf157 button.colab-df-convert');\n",
              "      buttonEl.style.display =\n",
              "        google.colab.kernel.accessAllowed ? 'block' : 'none';\n",
              "\n",
              "      async function convertToInteractive(key) {\n",
              "        const element = document.querySelector('#df-c5f762e2-4eac-4f60-9a97-667a4dbcf157');\n",
              "        const dataTable =\n",
              "          await google.colab.kernel.invokeFunction('convertToInteractive',\n",
              "                                                    [key], {});\n",
              "        if (!dataTable) return;\n",
              "\n",
              "        const docLinkHtml = 'Like what you see? Visit the ' +\n",
              "          '<a target=\"_blank\" href=https://colab.research.google.com/notebooks/data_table.ipynb>data table notebook</a>'\n",
              "          + ' to learn more about interactive tables.';\n",
              "        element.innerHTML = '';\n",
              "        dataTable['output_type'] = 'display_data';\n",
              "        await google.colab.output.renderOutput(dataTable, element);\n",
              "        const docLink = document.createElement('div');\n",
              "        docLink.innerHTML = docLinkHtml;\n",
              "        element.appendChild(docLink);\n",
              "      }\n",
              "    </script>\n",
              "  </div>\n",
              "\n",
              "\n",
              "<div id=\"df-40a19749-6d52-4aea-a1b0-91bd65d1f53c\">\n",
              "  <button class=\"colab-df-quickchart\" onclick=\"quickchart('df-40a19749-6d52-4aea-a1b0-91bd65d1f53c')\"\n",
              "            title=\"Suggest charts\"\n",
              "            style=\"display:none;\">\n",
              "\n",
              "<svg xmlns=\"http://www.w3.org/2000/svg\" height=\"24px\"viewBox=\"0 0 24 24\"\n",
              "     width=\"24px\">\n",
              "    <g>\n",
              "        <path d=\"M19 3H5c-1.1 0-2 .9-2 2v14c0 1.1.9 2 2 2h14c1.1 0 2-.9 2-2V5c0-1.1-.9-2-2-2zM9 17H7v-7h2v7zm4 0h-2V7h2v10zm4 0h-2v-4h2v4z\"/>\n",
              "    </g>\n",
              "</svg>\n",
              "  </button>\n",
              "\n",
              "<style>\n",
              "  .colab-df-quickchart {\n",
              "      --bg-color: #E8F0FE;\n",
              "      --fill-color: #1967D2;\n",
              "      --hover-bg-color: #E2EBFA;\n",
              "      --hover-fill-color: #174EA6;\n",
              "      --disabled-fill-color: #AAA;\n",
              "      --disabled-bg-color: #DDD;\n",
              "  }\n",
              "\n",
              "  [theme=dark] .colab-df-quickchart {\n",
              "      --bg-color: #3B4455;\n",
              "      --fill-color: #D2E3FC;\n",
              "      --hover-bg-color: #434B5C;\n",
              "      --hover-fill-color: #FFFFFF;\n",
              "      --disabled-bg-color: #3B4455;\n",
              "      --disabled-fill-color: #666;\n",
              "  }\n",
              "\n",
              "  .colab-df-quickchart {\n",
              "    background-color: var(--bg-color);\n",
              "    border: none;\n",
              "    border-radius: 50%;\n",
              "    cursor: pointer;\n",
              "    display: none;\n",
              "    fill: var(--fill-color);\n",
              "    height: 32px;\n",
              "    padding: 0;\n",
              "    width: 32px;\n",
              "  }\n",
              "\n",
              "  .colab-df-quickchart:hover {\n",
              "    background-color: var(--hover-bg-color);\n",
              "    box-shadow: 0 1px 2px rgba(60, 64, 67, 0.3), 0 1px 3px 1px rgba(60, 64, 67, 0.15);\n",
              "    fill: var(--button-hover-fill-color);\n",
              "  }\n",
              "\n",
              "  .colab-df-quickchart-complete:disabled,\n",
              "  .colab-df-quickchart-complete:disabled:hover {\n",
              "    background-color: var(--disabled-bg-color);\n",
              "    fill: var(--disabled-fill-color);\n",
              "    box-shadow: none;\n",
              "  }\n",
              "\n",
              "  .colab-df-spinner {\n",
              "    border: 2px solid var(--fill-color);\n",
              "    border-color: transparent;\n",
              "    border-bottom-color: var(--fill-color);\n",
              "    animation:\n",
              "      spin 1s steps(1) infinite;\n",
              "  }\n",
              "\n",
              "  @keyframes spin {\n",
              "    0% {\n",
              "      border-color: transparent;\n",
              "      border-bottom-color: var(--fill-color);\n",
              "      border-left-color: var(--fill-color);\n",
              "    }\n",
              "    20% {\n",
              "      border-color: transparent;\n",
              "      border-left-color: var(--fill-color);\n",
              "      border-top-color: var(--fill-color);\n",
              "    }\n",
              "    30% {\n",
              "      border-color: transparent;\n",
              "      border-left-color: var(--fill-color);\n",
              "      border-top-color: var(--fill-color);\n",
              "      border-right-color: var(--fill-color);\n",
              "    }\n",
              "    40% {\n",
              "      border-color: transparent;\n",
              "      border-right-color: var(--fill-color);\n",
              "      border-top-color: var(--fill-color);\n",
              "    }\n",
              "    60% {\n",
              "      border-color: transparent;\n",
              "      border-right-color: var(--fill-color);\n",
              "    }\n",
              "    80% {\n",
              "      border-color: transparent;\n",
              "      border-right-color: var(--fill-color);\n",
              "      border-bottom-color: var(--fill-color);\n",
              "    }\n",
              "    90% {\n",
              "      border-color: transparent;\n",
              "      border-bottom-color: var(--fill-color);\n",
              "    }\n",
              "  }\n",
              "</style>\n",
              "\n",
              "  <script>\n",
              "    async function quickchart(key) {\n",
              "      const quickchartButtonEl =\n",
              "        document.querySelector('#' + key + ' button');\n",
              "      quickchartButtonEl.disabled = true;  // To prevent multiple clicks.\n",
              "      quickchartButtonEl.classList.add('colab-df-spinner');\n",
              "      try {\n",
              "        const charts = await google.colab.kernel.invokeFunction(\n",
              "            'suggestCharts', [key], {});\n",
              "      } catch (error) {\n",
              "        console.error('Error during call to suggestCharts:', error);\n",
              "      }\n",
              "      quickchartButtonEl.classList.remove('colab-df-spinner');\n",
              "      quickchartButtonEl.classList.add('colab-df-quickchart-complete');\n",
              "    }\n",
              "    (() => {\n",
              "      let quickchartButtonEl =\n",
              "        document.querySelector('#df-40a19749-6d52-4aea-a1b0-91bd65d1f53c button');\n",
              "      quickchartButtonEl.style.display =\n",
              "        google.colab.kernel.accessAllowed ? 'block' : 'none';\n",
              "    })();\n",
              "  </script>\n",
              "</div>\n",
              "    </div>\n",
              "  </div>\n"
            ]
          },
          "metadata": {},
          "execution_count": 25
        }
      ],
      "source": [
        "predictor = ktrain.get_predictor(learner_baseline.model, preproc=distil_bert_baseline)\n",
        "\n",
        "generated_data_predicted_gpt2 = generate_predictions(predictor, augmented_data_gpt2)\n",
        "generated_data_predicted_gpt2.head()"
      ]
    },
    {
      "cell_type": "code",
      "execution_count": 26,
      "metadata": {
        "id": "3KHbviLO0xc9",
        "colab": {
          "base_uri": "https://localhost:8080/"
        },
        "outputId": "0edbc0e2-3f9e-4b74-ec78-6062e5abe459"
      },
      "outputs": [
        {
          "output_type": "stream",
          "name": "stdout",
          "text": [
            "Original length: 5700 was shortened to 1152\n"
          ]
        }
      ],
      "source": [
        "gpt2_data = filter_generated_data(generated_data_predicted_gpt2)"
      ]
    },
    {
      "cell_type": "code",
      "execution_count": 27,
      "metadata": {
        "id": "E0g_0zZn0sxB"
      },
      "outputs": [],
      "source": [
        "top_predictions_per_intent_gpt2 = gpt2_data.drop_duplicates(subset='utterance', keep='first').sort_values(by=['intent', 'prediction_proba'], ascending=[True, False]).drop_duplicates(keep='first').groupby('intent').head(percent_of_augmentation[TOP_N])"
      ]
    },
    {
      "cell_type": "markdown",
      "metadata": {
        "id": "2oEU1HC7qYF6"
      },
      "source": [
        "## Train classifier with augmented data from finetuned gpt2"
      ]
    },
    {
      "cell_type": "markdown",
      "metadata": {
        "id": "lJ-tMQfW4lYY"
      },
      "source": [
        "### Concatate training data with augmented data"
      ]
    },
    {
      "cell_type": "code",
      "execution_count": 28,
      "metadata": {
        "id": "M71JGJxz4uZw"
      },
      "outputs": [],
      "source": [
        "data_train_aug_gpt2 = pd.concat([pd.read_csv(f'/content/data_aug_irony/data/k-fold-training-splits/split_{current_split}.csv'),\n",
        "                                top_predictions_per_intent_gpt2[['intent', 'utterance']]], ignore_index=True)\n",
        "\n",
        "X_aug_gpt2 = data_train_aug_gpt2['utterance']\n",
        "y_aug_gpt2 = data_train_aug_gpt2['intent']\n",
        "\n",
        "X_train_aug_gpt2 = []\n",
        "X_valid_aug_gpt2 = []\n",
        "y_train_aug_gpt2 = []\n",
        "y_valid_aug_gpt2 = []\n",
        "\n",
        "# Perform train-test split\n",
        "X_train_aug_gpt2, X_valid_aug_gpt2, y_train_aug_gpt2, y_valid_aug_gpt2 = train_test_split(X_aug_gpt2, y_aug_gpt2, test_size=0.2, stratify=y_aug_gpt2)\n",
        "\n",
        "X_train_aug_gpt2 = X_train_aug_gpt2.tolist()\n",
        "X_valid_aug_gpt2 = X_valid_aug_gpt2.tolist()\n",
        "y_train_aug_gpt2 = y_train_aug_gpt2.tolist()\n",
        "y_valid_aug_gpt2 = y_valid_aug_gpt2.tolist()\n",
        "\n",
        "X_train_aug_gpt2 = [str(x) for x in X_train_aug_gpt2]\n",
        "X_valid_aug_gpt2 = [str(x) for x in X_valid_aug_gpt2]"
      ]
    },
    {
      "cell_type": "markdown",
      "metadata": {
        "id": "zbbZ-dZx4-5T"
      },
      "source": [
        "### Initialise augmented model and learner"
      ]
    },
    {
      "cell_type": "code",
      "execution_count": 29,
      "metadata": {
        "id": "BzVKNIJaqz53"
      },
      "outputs": [],
      "source": [
        "distil_bert_augmented_gpt2 = text.Transformer(GLOBAL_BERT_MODEL, maxlen=GLOBAL_MAXLEN)"
      ]
    },
    {
      "cell_type": "code",
      "execution_count": 30,
      "metadata": {
        "id": "LCzpyw415HD3",
        "colab": {
          "base_uri": "https://localhost:8080/",
          "height": 243
        },
        "outputId": "785c8109-c795-45d1-c7a0-9377aab925b8"
      },
      "outputs": [
        {
          "output_type": "stream",
          "name": "stdout",
          "text": [
            "preprocessing train...\n",
            "language: en\n",
            "train sequence lengths:\n",
            "\tmean : 19\n",
            "\t95percentile : 43\n",
            "\t99percentile : 49\n"
          ]
        },
        {
          "output_type": "display_data",
          "data": {
            "text/plain": [
              "<IPython.core.display.HTML object>"
            ],
            "text/html": [
              "\n",
              "<style>\n",
              "    /* Turns off some styling */\n",
              "    progress {\n",
              "        /* gets rid of default border in Firefox and Opera. */\n",
              "        border: none;\n",
              "        /* Needs to be in here for Safari polyfill so background images work as expected. */\n",
              "        background-size: auto;\n",
              "    }\n",
              "    progress:not([value]), progress:not([value])::-webkit-progress-bar {\n",
              "        background: repeating-linear-gradient(45deg, #7e7e7e, #7e7e7e 10px, #5c5c5c 10px, #5c5c5c 20px);\n",
              "    }\n",
              "    .progress-bar-interrupted, .progress-bar-interrupted::-webkit-progress-bar {\n",
              "        background: #F44336;\n",
              "    }\n",
              "</style>\n"
            ]
          },
          "metadata": {}
        },
        {
          "output_type": "display_data",
          "data": {
            "text/plain": [
              "<IPython.core.display.HTML object>"
            ],
            "text/html": []
          },
          "metadata": {}
        },
        {
          "output_type": "stream",
          "name": "stdout",
          "text": [
            "Is Multi-Label? False\n",
            "preprocessing test...\n",
            "language: en\n",
            "test sequence lengths:\n",
            "\tmean : 19\n",
            "\t95percentile : 46\n",
            "\t99percentile : 55\n"
          ]
        },
        {
          "output_type": "display_data",
          "data": {
            "text/plain": [
              "<IPython.core.display.HTML object>"
            ],
            "text/html": [
              "\n",
              "<style>\n",
              "    /* Turns off some styling */\n",
              "    progress {\n",
              "        /* gets rid of default border in Firefox and Opera. */\n",
              "        border: none;\n",
              "        /* Needs to be in here for Safari polyfill so background images work as expected. */\n",
              "        background-size: auto;\n",
              "    }\n",
              "    progress:not([value]), progress:not([value])::-webkit-progress-bar {\n",
              "        background: repeating-linear-gradient(45deg, #7e7e7e, #7e7e7e 10px, #5c5c5c 10px, #5c5c5c 20px);\n",
              "    }\n",
              "    .progress-bar-interrupted, .progress-bar-interrupted::-webkit-progress-bar {\n",
              "        background: #F44336;\n",
              "    }\n",
              "</style>\n"
            ]
          },
          "metadata": {}
        },
        {
          "output_type": "display_data",
          "data": {
            "text/plain": [
              "<IPython.core.display.HTML object>"
            ],
            "text/html": []
          },
          "metadata": {}
        }
      ],
      "source": [
        "processed_train_aug_gpt2 = distil_bert_augmented_gpt2.preprocess_train(X_train_aug_gpt2, y_train_aug_gpt2)\n",
        "processed_test_aug_gpt2 = distil_bert_augmented_gpt2.preprocess_test(X_valid_aug_gpt2, y_valid_aug_gpt2)"
      ]
    },
    {
      "cell_type": "code",
      "execution_count": 31,
      "metadata": {
        "id": "iPgkUpUq5VTe"
      },
      "outputs": [],
      "source": [
        "model_aug_gpt2 = distil_bert_augmented_gpt2.get_classifier()\n",
        "learner_aug_gpt2 = ktrain.get_learner(model_aug_gpt2, train_data=processed_train_aug_gpt2, val_data=processed_test_aug_gpt2, batch_size=GLOBAL_BATCH_SIZE)"
      ]
    },
    {
      "cell_type": "markdown",
      "metadata": {
        "id": "VveuVW905Jcq"
      },
      "source": [
        "### Train classifier"
      ]
    },
    {
      "cell_type": "code",
      "execution_count": 32,
      "metadata": {
        "id": "jnTPN1iu5Maa",
        "colab": {
          "base_uri": "https://localhost:8080/"
        },
        "outputId": "d192724e-a779-4420-89f7-f8aba623ecd3"
      },
      "outputs": [
        {
          "output_type": "stream",
          "name": "stdout",
          "text": [
            "\n",
            "\n",
            "begin training using onecycle policy with max lr of 0.0001...\n",
            "Epoch 1/12\n",
            "19/19 [==============================] - 19s 555ms/step - loss: 0.6405 - accuracy: 0.6209 - val_loss: 0.5949 - val_accuracy: 0.7123\n",
            "Epoch 2/12\n",
            "19/19 [==============================] - 8s 412ms/step - loss: 0.5746 - accuracy: 0.7136 - val_loss: 0.5424 - val_accuracy: 0.7671\n",
            "Epoch 3/12\n",
            "19/19 [==============================] - 8s 419ms/step - loss: 0.4244 - accuracy: 0.8199 - val_loss: 0.5707 - val_accuracy: 0.7397\n",
            "Epoch 4/12\n",
            "19/19 [==============================] - 9s 458ms/step - loss: 0.2474 - accuracy: 0.9245 - val_loss: 0.5611 - val_accuracy: 0.7192\n",
            "Epoch 5/12\n",
            "19/19 [==============================] - 8s 420ms/step - loss: 0.1545 - accuracy: 0.9605 - val_loss: 0.9740 - val_accuracy: 0.7534\n",
            "Epoch 6/12\n",
            "19/19 [==============================] - 8s 419ms/step - loss: 0.0630 - accuracy: 0.9811 - val_loss: 1.6189 - val_accuracy: 0.6233\n",
            "Epoch 7/12\n",
            "19/19 [==============================] - 9s 452ms/step - loss: 0.1406 - accuracy: 0.9571 - val_loss: 0.9869 - val_accuracy: 0.7192\n",
            "Epoch 8/12\n",
            "19/19 [==============================] - 8s 414ms/step - loss: 0.0336 - accuracy: 0.9863 - val_loss: 1.1081 - val_accuracy: 0.7534\n",
            "Epoch 9/12\n",
            "19/19 [==============================] - 8s 413ms/step - loss: 0.0094 - accuracy: 0.9983 - val_loss: 1.3745 - val_accuracy: 0.7055\n",
            "Epoch 10/12\n",
            "19/19 [==============================] - 8s 412ms/step - loss: 0.0036 - accuracy: 1.0000 - val_loss: 1.3948 - val_accuracy: 0.7260\n",
            "Epoch 11/12\n",
            "19/19 [==============================] - 8s 414ms/step - loss: 0.0018 - accuracy: 1.0000 - val_loss: 1.3943 - val_accuracy: 0.7397\n",
            "Epoch 12/12\n",
            "19/19 [==============================] - 9s 452ms/step - loss: 0.0015 - accuracy: 1.0000 - val_loss: 1.4027 - val_accuracy: 0.7397\n"
          ]
        },
        {
          "output_type": "execute_result",
          "data": {
            "text/plain": [
              "<keras.src.callbacks.History at 0x7e11906ead10>"
            ]
          },
          "metadata": {},
          "execution_count": 32
        }
      ],
      "source": [
        "learner_aug_gpt2.fit_onecycle(GLOBAL_LEARNING_RATE, N_TRAINING_EPOCHS_AUGMENTED)"
      ]
    },
    {
      "cell_type": "code",
      "execution_count": 33,
      "metadata": {
        "id": "D5EwNsbA5aSi",
        "colab": {
          "base_uri": "https://localhost:8080/",
          "height": 703
        },
        "outputId": "0d92c076-8eff-4e81-d883-2cbab99f7dc2"
      },
      "outputs": [
        {
          "output_type": "stream",
          "name": "stdout",
          "text": [
            "<ktrain.text.predictor.TextPredictor object at 0x7e119061df60>\n",
            "Accuracy: 75.79%\n",
            "Log-loss: 1.3254\n",
            "AUC-ROC: 0.5279\n",
            "Precision: 0.7604\n",
            "Recall: 0.7579\n",
            "F-Score: 0.7591\n",
            "Specificity: 0.8567\n"
          ]
        },
        {
          "output_type": "display_data",
          "data": {
            "text/plain": [
              "<Figure size 800x600 with 2 Axes>"
            ],
            "image/png": "[encoded data removed]"
          },
          "metadata": {}
        }
      ],
      "source": [
        "evaluate_and_save_results(learner_aug_gpt2, distil_bert_augmented_gpt2, '/content/data_aug_irony/data/eval.csv', f'evaluation_results_augmented_gpt2_{percent_names[TOP_N]}.txt')"
      ]
    },
    {
      "cell_type": "markdown",
      "metadata": {
        "id": "wvK7S0TdEQpU"
      },
      "source": [
        "## Data preperations GPT3"
      ]
    },
    {
      "cell_type": "code",
      "execution_count": 34,
      "metadata": {
        "id": "afhcFV-dEQpV"
      },
      "outputs": [],
      "source": [
        "augmented_data_gpt3 = pd.read_csv(\"/content/data_aug_irony/data/generated_data/gpt3/generated.csv\")"
      ]
    },
    {
      "cell_type": "code",
      "execution_count": 35,
      "metadata": {
        "id": "yikN_Ix0EQpX",
        "colab": {
          "base_uri": "https://localhost:8080/",
          "height": 206
        },
        "outputId": "d641215e-573c-4e82-fb07-5b00ba6059a6"
      },
      "outputs": [
        {
          "output_type": "execute_result",
          "data": {
            "text/plain": [
              "      intent                                          utterance  \\\n",
              "0  sarcastic  oh i just love having to apply to 60+ companie...   \n",
              "1  sarcastic     Oh no I’m a plastic bag very fucking hilarious   \n",
              "2  sarcastic  Oh joy;; crazy tutu and tiara drive-through la...   \n",
              "3  sarcastic  And on day 1 after a short break, Laura almost...   \n",
              "4  sarcastic  Giroud linking to make it 2-0 to ouz-lutons in...   \n",
              "\n",
              "  predicted_intent  prediction_proba  \n",
              "0    not sarcastic          0.995496  \n",
              "1    not sarcastic          0.998708  \n",
              "2    not sarcastic          0.998498  \n",
              "3        sarcastic          0.983850  \n",
              "4    not sarcastic          0.946255  "
            ],
            "text/html": [
              "\n",
              "  <div id=\"df-42a1c452-20c3-45c6-a761-480586a329be\" class=\"colab-df-container\">\n",
              "    <div>\n",
              "<style scoped>\n",
              "    .dataframe tbody tr th:only-of-type {\n",
              "        vertical-align: middle;\n",
              "    }\n",
              "\n",
              "    .dataframe tbody tr th {\n",
              "        vertical-align: top;\n",
              "    }\n",
              "\n",
              "    .dataframe thead th {\n",
              "        text-align: right;\n",
              "    }\n",
              "</style>\n",
              "<table border=\"1\" class=\"dataframe\">\n",
              "  <thead>\n",
              "    <tr style=\"text-align: right;\">\n",
              "      <th></th>\n",
              "      <th>intent</th>\n",
              "      <th>utterance</th>\n",
              "      <th>predicted_intent</th>\n",
              "      <th>prediction_proba</th>\n",
              "    </tr>\n",
              "  </thead>\n",
              "  <tbody>\n",
              "    <tr>\n",
              "      <th>0</th>\n",
              "      <td>sarcastic</td>\n",
              "      <td>oh i just love having to apply to 60+ companie...</td>\n",
              "      <td>not sarcastic</td>\n",
              "      <td>0.995496</td>\n",
              "    </tr>\n",
              "    <tr>\n",
              "      <th>1</th>\n",
              "      <td>sarcastic</td>\n",
              "      <td>Oh no I’m a plastic bag very fucking hilarious</td>\n",
              "      <td>not sarcastic</td>\n",
              "      <td>0.998708</td>\n",
              "    </tr>\n",
              "    <tr>\n",
              "      <th>2</th>\n",
              "      <td>sarcastic</td>\n",
              "      <td>Oh joy;; crazy tutu and tiara drive-through la...</td>\n",
              "      <td>not sarcastic</td>\n",
              "      <td>0.998498</td>\n",
              "    </tr>\n",
              "    <tr>\n",
              "      <th>3</th>\n",
              "      <td>sarcastic</td>\n",
              "      <td>And on day 1 after a short break, Laura almost...</td>\n",
              "      <td>sarcastic</td>\n",
              "      <td>0.983850</td>\n",
              "    </tr>\n",
              "    <tr>\n",
              "      <th>4</th>\n",
              "      <td>sarcastic</td>\n",
              "      <td>Giroud linking to make it 2-0 to ouz-lutons in...</td>\n",
              "      <td>not sarcastic</td>\n",
              "      <td>0.946255</td>\n",
              "    </tr>\n",
              "  </tbody>\n",
              "</table>\n",
              "</div>\n",
              "    <div class=\"colab-df-buttons\">\n",
              "\n",
              "  <div class=\"colab-df-container\">\n",
              "    <button class=\"colab-df-convert\" onclick=\"convertToInteractive('df-42a1c452-20c3-45c6-a761-480586a329be')\"\n",
              "            title=\"Convert this dataframe to an interactive table.\"\n",
              "            style=\"display:none;\">\n",
              "\n",
              "  <svg xmlns=\"http://www.w3.org/2000/svg\" height=\"24px\" viewBox=\"0 -960 960 960\">\n",
              "    <path d=\"M120-120v-720h720v720H120Zm60-500h600v-160H180v160Zm220 220h160v-160H400v160Zm0 220h160v-160H400v160ZM180-400h160v-160H180v160Zm440 0h160v-160H620v160ZM180-180h160v-160H180v160Zm440 0h160v-160H620v160Z\"/>\n",
              "  </svg>\n",
              "    </button>\n",
              "\n",
              "  <style>\n",
              "    .colab-df-container {\n",
              "      display:flex;\n",
              "      gap: 12px;\n",
              "    }\n",
              "\n",
              "    .colab-df-convert {\n",
              "      background-color: #E8F0FE;\n",
              "      border: none;\n",
              "      border-radius: 50%;\n",
              "      cursor: pointer;\n",
              "      display: none;\n",
              "      fill: #1967D2;\n",
              "      height: 32px;\n",
              "      padding: 0 0 0 0;\n",
              "      width: 32px;\n",
              "    }\n",
              "\n",
              "    .colab-df-convert:hover {\n",
              "      background-color: #E2EBFA;\n",
              "      box-shadow: 0px 1px 2px rgba(60, 64, 67, 0.3), 0px 1px 3px 1px rgba(60, 64, 67, 0.15);\n",
              "      fill: #174EA6;\n",
              "    }\n",
              "\n",
              "    .colab-df-buttons div {\n",
              "      margin-bottom: 4px;\n",
              "    }\n",
              "\n",
              "    [theme=dark] .colab-df-convert {\n",
              "      background-color: #3B4455;\n",
              "      fill: #D2E3FC;\n",
              "    }\n",
              "\n",
              "    [theme=dark] .colab-df-convert:hover {\n",
              "      background-color: #434B5C;\n",
              "      box-shadow: 0px 1px 3px 1px rgba(0, 0, 0, 0.15);\n",
              "      filter: drop-shadow(0px 1px 2px rgba(0, 0, 0, 0.3));\n",
              "      fill: #FFFFFF;\n",
              "    }\n",
              "  </style>\n",
              "\n",
              "    <script>\n",
              "      const buttonEl =\n",
              "        document.querySelector('#df-42a1c452-20c3-45c6-a761-480586a329be button.colab-df-convert');\n",
              "      buttonEl.style.display =\n",
              "        google.colab.kernel.accessAllowed ? 'block' : 'none';\n",
              "\n",
              "      async function convertToInteractive(key) {\n",
              "        const element = document.querySelector('#df-42a1c452-20c3-45c6-a761-480586a329be');\n",
              "        const dataTable =\n",
              "          await google.colab.kernel.invokeFunction('convertToInteractive',\n",
              "                                                    [key], {});\n",
              "        if (!dataTable) return;\n",
              "\n",
              "        const docLinkHtml = 'Like what you see? Visit the ' +\n",
              "          '<a target=\"_blank\" href=https://colab.research.google.com/notebooks/data_table.ipynb>data table notebook</a>'\n",
              "          + ' to learn more about interactive tables.';\n",
              "        element.innerHTML = '';\n",
              "        dataTable['output_type'] = 'display_data';\n",
              "        await google.colab.output.renderOutput(dataTable, element);\n",
              "        const docLink = document.createElement('div');\n",
              "        docLink.innerHTML = docLinkHtml;\n",
              "        element.appendChild(docLink);\n",
              "      }\n",
              "    </script>\n",
              "  </div>\n",
              "\n",
              "\n",
              "<div id=\"df-a2c72456-f2b8-4b77-ac8c-76e832034bbf\">\n",
              "  <button class=\"colab-df-quickchart\" onclick=\"quickchart('df-a2c72456-f2b8-4b77-ac8c-76e832034bbf')\"\n",
              "            title=\"Suggest charts\"\n",
              "            style=\"display:none;\">\n",
              "\n",
              "<svg xmlns=\"http://www.w3.org/2000/svg\" height=\"24px\"viewBox=\"0 0 24 24\"\n",
              "     width=\"24px\">\n",
              "    <g>\n",
              "        <path d=\"M19 3H5c-1.1 0-2 .9-2 2v14c0 1.1.9 2 2 2h14c1.1 0 2-.9 2-2V5c0-1.1-.9-2-2-2zM9 17H7v-7h2v7zm4 0h-2V7h2v10zm4 0h-2v-4h2v4z\"/>\n",
              "    </g>\n",
              "</svg>\n",
              "  </button>\n",
              "\n",
              "<style>\n",
              "  .colab-df-quickchart {\n",
              "      --bg-color: #E8F0FE;\n",
              "      --fill-color: #1967D2;\n",
              "      --hover-bg-color: #E2EBFA;\n",
              "      --hover-fill-color: #174EA6;\n",
              "      --disabled-fill-color: #AAA;\n",
              "      --disabled-bg-color: #DDD;\n",
              "  }\n",
              "\n",
              "  [theme=dark] .colab-df-quickchart {\n",
              "      --bg-color: #3B4455;\n",
              "      --fill-color: #D2E3FC;\n",
              "      --hover-bg-color: #434B5C;\n",
              "      --hover-fill-color: #FFFFFF;\n",
              "      --disabled-bg-color: #3B4455;\n",
              "      --disabled-fill-color: #666;\n",
              "  }\n",
              "\n",
              "  .colab-df-quickchart {\n",
              "    background-color: var(--bg-color);\n",
              "    border: none;\n",
              "    border-radius: 50%;\n",
              "    cursor: pointer;\n",
              "    display: none;\n",
              "    fill: var(--fill-color);\n",
              "    height: 32px;\n",
              "    padding: 0;\n",
              "    width: 32px;\n",
              "  }\n",
              "\n",
              "  .colab-df-quickchart:hover {\n",
              "    background-color: var(--hover-bg-color);\n",
              "    box-shadow: 0 1px 2px rgba(60, 64, 67, 0.3), 0 1px 3px 1px rgba(60, 64, 67, 0.15);\n",
              "    fill: var(--button-hover-fill-color);\n",
              "  }\n",
              "\n",
              "  .colab-df-quickchart-complete:disabled,\n",
              "  .colab-df-quickchart-complete:disabled:hover {\n",
              "    background-color: var(--disabled-bg-color);\n",
              "    fill: var(--disabled-fill-color);\n",
              "    box-shadow: none;\n",
              "  }\n",
              "\n",
              "  .colab-df-spinner {\n",
              "    border: 2px solid var(--fill-color);\n",
              "    border-color: transparent;\n",
              "    border-bottom-color: var(--fill-color);\n",
              "    animation:\n",
              "      spin 1s steps(1) infinite;\n",
              "  }\n",
              "\n",
              "  @keyframes spin {\n",
              "    0% {\n",
              "      border-color: transparent;\n",
              "      border-bottom-color: var(--fill-color);\n",
              "      border-left-color: var(--fill-color);\n",
              "    }\n",
              "    20% {\n",
              "      border-color: transparent;\n",
              "      border-left-color: var(--fill-color);\n",
              "      border-top-color: var(--fill-color);\n",
              "    }\n",
              "    30% {\n",
              "      border-color: transparent;\n",
              "      border-left-color: var(--fill-color);\n",
              "      border-top-color: var(--fill-color);\n",
              "      border-right-color: var(--fill-color);\n",
              "    }\n",
              "    40% {\n",
              "      border-color: transparent;\n",
              "      border-right-color: var(--fill-color);\n",
              "      border-top-color: var(--fill-color);\n",
              "    }\n",
              "    60% {\n",
              "      border-color: transparent;\n",
              "      border-right-color: var(--fill-color);\n",
              "    }\n",
              "    80% {\n",
              "      border-color: transparent;\n",
              "      border-right-color: var(--fill-color);\n",
              "      border-bottom-color: var(--fill-color);\n",
              "    }\n",
              "    90% {\n",
              "      border-color: transparent;\n",
              "      border-bottom-color: var(--fill-color);\n",
              "    }\n",
              "  }\n",
              "</style>\n",
              "\n",
              "  <script>\n",
              "    async function quickchart(key) {\n",
              "      const quickchartButtonEl =\n",
              "        document.querySelector('#' + key + ' button');\n",
              "      quickchartButtonEl.disabled = true;  // To prevent multiple clicks.\n",
              "      quickchartButtonEl.classList.add('colab-df-spinner');\n",
              "      try {\n",
              "        const charts = await google.colab.kernel.invokeFunction(\n",
              "            'suggestCharts', [key], {});\n",
              "      } catch (error) {\n",
              "        console.error('Error during call to suggestCharts:', error);\n",
              "      }\n",
              "      quickchartButtonEl.classList.remove('colab-df-spinner');\n",
              "      quickchartButtonEl.classList.add('colab-df-quickchart-complete');\n",
              "    }\n",
              "    (() => {\n",
              "      let quickchartButtonEl =\n",
              "        document.querySelector('#df-a2c72456-f2b8-4b77-ac8c-76e832034bbf button');\n",
              "      quickchartButtonEl.style.display =\n",
              "        google.colab.kernel.accessAllowed ? 'block' : 'none';\n",
              "    })();\n",
              "  </script>\n",
              "</div>\n",
              "    </div>\n",
              "  </div>\n"
            ]
          },
          "metadata": {},
          "execution_count": 35
        }
      ],
      "source": [
        "predictor = ktrain.get_predictor(learner_baseline.model, preproc=distil_bert_baseline)\n",
        "\n",
        "generated_data_predicted_gpt3 = generate_predictions(predictor, augmented_data_gpt3)\n",
        "generated_data_predicted_gpt3.head()"
      ]
    },
    {
      "cell_type": "code",
      "execution_count": 36,
      "metadata": {
        "id": "D8ncJtIgEQpY",
        "colab": {
          "base_uri": "https://localhost:8080/"
        },
        "outputId": "99cfa0c3-8f5c-4959-b205-93b434c050e6"
      },
      "outputs": [
        {
          "output_type": "stream",
          "name": "stdout",
          "text": [
            "Original length: 5400 was shortened to 956\n"
          ]
        }
      ],
      "source": [
        "gpt3_data = filter_generated_data(generated_data_predicted_gpt3)"
      ]
    },
    {
      "cell_type": "code",
      "execution_count": 37,
      "metadata": {
        "id": "QqXqCmdMEQpY"
      },
      "outputs": [],
      "source": [
        "top_predictions_per_intent_gpt3 = gpt3_data.drop_duplicates(subset='utterance', keep='first').sort_values(by=['intent', 'prediction_proba'], ascending=[True, False]).drop_duplicates(keep='first').groupby('intent').head(percent_of_augmentation[TOP_N])"
      ]
    },
    {
      "cell_type": "markdown",
      "metadata": {
        "id": "r4BEBgTIFDY4"
      },
      "source": [
        "## Train classifier with augmented data from finetuned gpt3"
      ]
    },
    {
      "cell_type": "markdown",
      "metadata": {
        "id": "CDlyzIe-FDZD"
      },
      "source": [
        "### Concatate training data with augmented data"
      ]
    },
    {
      "cell_type": "code",
      "execution_count": 40,
      "metadata": {
        "id": "h-6siK4iFDZD"
      },
      "outputs": [],
      "source": [
        "data_train_aug_gpt3 = pd.concat([pd.read_csv(f'/content/data_aug_irony/data/k-fold-training-splits/split_{current_split}.csv'),\n",
        "                                top_predictions_per_intent_gpt3[['intent', 'utterance']]], ignore_index=True)\n",
        "X_aug_gpt3 = data_train_aug_gpt3['utterance']\n",
        "y_aug_gpt3 = data_train_aug_gpt3['intent']\n",
        "\n",
        "X_train_aug_gpt3 = []\n",
        "X_valid_aug_gpt3 = []\n",
        "y_train_aug_gpt3 = []\n",
        "y_valid_aug_gpt3 = []\n",
        "\n",
        "# Perform train-test split\n",
        "X_train_aug_gpt3, X_valid_aug_gpt3, y_train_aug_gpt3, y_valid_aug_gpt3 = train_test_split(X_aug_gpt3, y_aug_gpt3, test_size=0.2,  stratify=y_aug_gpt3)\n",
        "\n",
        "X_train_aug_gpt3 = X_train_aug_gpt3.tolist()\n",
        "X_valid_aug_gpt3 = X_valid_aug_gpt3.tolist()\n",
        "y_train_aug_gpt3 = y_train_aug_gpt3.tolist()\n",
        "y_valid_aug_gpt3 = y_valid_aug_gpt3.tolist()\n",
        "\n",
        "X_train_aug_gpt3 = [str(x) for x in X_train_aug_gpt3]\n",
        "X_valid_aug_gpt3 = [str(x) for x in X_valid_aug_gpt3]"
      ]
    },
    {
      "cell_type": "markdown",
      "metadata": {
        "id": "zBDkJMovFDZE"
      },
      "source": [
        "### Initialise augmented model and learner"
      ]
    },
    {
      "cell_type": "code",
      "execution_count": 41,
      "metadata": {
        "id": "k1mClVeDFDZE"
      },
      "outputs": [],
      "source": [
        "distil_bert_augmented_gpt3 = text.Transformer(GLOBAL_BERT_MODEL, maxlen=GLOBAL_MAXLEN)"
      ]
    },
    {
      "cell_type": "code",
      "execution_count": 42,
      "metadata": {
        "id": "VhLJB0npFDZE",
        "colab": {
          "base_uri": "https://localhost:8080/",
          "height": 243
        },
        "outputId": "40502f27-a94e-4792-93c0-2ee421a4c310"
      },
      "outputs": [
        {
          "output_type": "stream",
          "name": "stdout",
          "text": [
            "preprocessing train...\n",
            "language: en\n",
            "train sequence lengths:\n",
            "\tmean : 19\n",
            "\t95percentile : 43\n",
            "\t99percentile : 49\n"
          ]
        },
        {
          "output_type": "display_data",
          "data": {
            "text/plain": [
              "<IPython.core.display.HTML object>"
            ],
            "text/html": [
              "\n",
              "<style>\n",
              "    /* Turns off some styling */\n",
              "    progress {\n",
              "        /* gets rid of default border in Firefox and Opera. */\n",
              "        border: none;\n",
              "        /* Needs to be in here for Safari polyfill so background images work as expected. */\n",
              "        background-size: auto;\n",
              "    }\n",
              "    progress:not([value]), progress:not([value])::-webkit-progress-bar {\n",
              "        background: repeating-linear-gradient(45deg, #7e7e7e, #7e7e7e 10px, #5c5c5c 10px, #5c5c5c 20px);\n",
              "    }\n",
              "    .progress-bar-interrupted, .progress-bar-interrupted::-webkit-progress-bar {\n",
              "        background: #F44336;\n",
              "    }\n",
              "</style>\n"
            ]
          },
          "metadata": {}
        },
        {
          "output_type": "display_data",
          "data": {
            "text/plain": [
              "<IPython.core.display.HTML object>"
            ],
            "text/html": []
          },
          "metadata": {}
        },
        {
          "output_type": "stream",
          "name": "stdout",
          "text": [
            "Is Multi-Label? False\n",
            "preprocessing test...\n",
            "language: en\n",
            "test sequence lengths:\n",
            "\tmean : 20\n",
            "\t95percentile : 46\n",
            "\t99percentile : 53\n"
          ]
        },
        {
          "output_type": "display_data",
          "data": {
            "text/plain": [
              "<IPython.core.display.HTML object>"
            ],
            "text/html": [
              "\n",
              "<style>\n",
              "    /* Turns off some styling */\n",
              "    progress {\n",
              "        /* gets rid of default border in Firefox and Opera. */\n",
              "        border: none;\n",
              "        /* Needs to be in here for Safari polyfill so background images work as expected. */\n",
              "        background-size: auto;\n",
              "    }\n",
              "    progress:not([value]), progress:not([value])::-webkit-progress-bar {\n",
              "        background: repeating-linear-gradient(45deg, #7e7e7e, #7e7e7e 10px, #5c5c5c 10px, #5c5c5c 20px);\n",
              "    }\n",
              "    .progress-bar-interrupted, .progress-bar-interrupted::-webkit-progress-bar {\n",
              "        background: #F44336;\n",
              "    }\n",
              "</style>\n"
            ]
          },
          "metadata": {}
        },
        {
          "output_type": "display_data",
          "data": {
            "text/plain": [
              "<IPython.core.display.HTML object>"
            ],
            "text/html": []
          },
          "metadata": {}
        }
      ],
      "source": [
        "processed_train_aug_gpt3 = distil_bert_augmented_gpt3.preprocess_train(X_train_aug_gpt3, y_train_aug_gpt3)\n",
        "processed_test_aug_gpt3 = distil_bert_augmented_gpt3.preprocess_test(X_valid_aug_gpt3, y_valid_aug_gpt3)"
      ]
    },
    {
      "cell_type": "code",
      "execution_count": 43,
      "metadata": {
        "id": "SU2uRg39FDZF"
      },
      "outputs": [],
      "source": [
        "model_aug_gpt3 = distil_bert_augmented_gpt3.get_classifier()\n",
        "learner_aug_gpt3 = ktrain.get_learner(model_aug_gpt3, train_data=processed_train_aug_gpt3, val_data=processed_test_aug_gpt3, batch_size=GLOBAL_BATCH_SIZE)"
      ]
    },
    {
      "cell_type": "markdown",
      "metadata": {
        "id": "_3C98zs1FDZF"
      },
      "source": [
        "### Train classifier"
      ]
    },
    {
      "cell_type": "code",
      "execution_count": 44,
      "metadata": {
        "id": "C5pSOqjBFDZG",
        "colab": {
          "base_uri": "https://localhost:8080/"
        },
        "outputId": "704e1715-8ad1-4f6c-e843-cabd4c5043b8"
      },
      "outputs": [
        {
          "output_type": "stream",
          "name": "stdout",
          "text": [
            "\n",
            "\n",
            "begin training using onecycle policy with max lr of 0.0001...\n",
            "Epoch 1/12\n",
            "19/19 [==============================] - 20s 496ms/step - loss: 0.6277 - accuracy: 0.7067 - val_loss: 0.6493 - val_accuracy: 0.7123\n",
            "Epoch 2/12\n",
            "19/19 [==============================] - 8s 415ms/step - loss: 0.6102 - accuracy: 0.7153 - val_loss: 0.6005 - val_accuracy: 0.7123\n",
            "Epoch 3/12\n",
            "19/19 [==============================] - 8s 417ms/step - loss: 0.5771 - accuracy: 0.7136 - val_loss: 0.5676 - val_accuracy: 0.6986\n",
            "Epoch 4/12\n",
            "19/19 [==============================] - 8s 417ms/step - loss: 0.4126 - accuracy: 0.8096 - val_loss: 0.6656 - val_accuracy: 0.6370\n",
            "Epoch 5/12\n",
            "19/19 [==============================] - 8s 418ms/step - loss: 0.2159 - accuracy: 0.9365 - val_loss: 0.9566 - val_accuracy: 0.7192\n",
            "Epoch 6/12\n",
            "19/19 [==============================] - 8s 409ms/step - loss: 0.2337 - accuracy: 0.9194 - val_loss: 0.6063 - val_accuracy: 0.6918\n",
            "Epoch 7/12\n",
            "19/19 [==============================] - 8s 412ms/step - loss: 0.1598 - accuracy: 0.9537 - val_loss: 1.5214 - val_accuracy: 0.6027\n",
            "Epoch 8/12\n",
            "19/19 [==============================] - 8s 405ms/step - loss: 0.0915 - accuracy: 0.9726 - val_loss: 1.5140 - val_accuracy: 0.5274\n",
            "Epoch 9/12\n",
            "19/19 [==============================] - 8s 407ms/step - loss: 0.0319 - accuracy: 0.9949 - val_loss: 1.3904 - val_accuracy: 0.6986\n",
            "Epoch 10/12\n",
            "19/19 [==============================] - 8s 412ms/step - loss: 0.0046 - accuracy: 1.0000 - val_loss: 1.6575 - val_accuracy: 0.6575\n",
            "Epoch 11/12\n",
            "19/19 [==============================] - 8s 408ms/step - loss: 0.0025 - accuracy: 1.0000 - val_loss: 1.7369 - val_accuracy: 0.6575\n",
            "Epoch 12/12\n",
            "19/19 [==============================] - 8s 420ms/step - loss: 0.0020 - accuracy: 1.0000 - val_loss: 1.7540 - val_accuracy: 0.6575\n"
          ]
        },
        {
          "output_type": "execute_result",
          "data": {
            "text/plain": [
              "<keras.src.callbacks.History at 0x7e11842945b0>"
            ]
          },
          "metadata": {},
          "execution_count": 44
        }
      ],
      "source": [
        "learner_aug_gpt3.fit_onecycle(GLOBAL_LEARNING_RATE, N_TRAINING_EPOCHS_AUGMENTED)"
      ]
    },
    {
      "cell_type": "code",
      "execution_count": 45,
      "metadata": {
        "id": "8P43Bg82FDZG",
        "colab": {
          "base_uri": "https://localhost:8080/",
          "height": 703
        },
        "outputId": "9dc3778e-0afb-4208-bc34-7872e799a5ba"
      },
      "outputs": [
        {
          "output_type": "stream",
          "name": "stdout",
          "text": [
            "<ktrain.text.predictor.TextPredictor object at 0x7e118424e0b0>\n",
            "Accuracy: 67.14%\n",
            "Log-loss: 1.6429\n",
            "AUC-ROC: 0.5340\n",
            "Precision: 0.7690\n",
            "Recall: 0.6714\n",
            "F-Score: 0.7108\n",
            "Specificity: 0.7267\n"
          ]
        },
        {
          "output_type": "display_data",
          "data": {
            "text/plain": [
              "<Figure size 800x600 with 2 Axes>"
            ],
            "image/png": "[encoded data removed]"
          },
          "metadata": {}
        }
      ],
      "source": [
        "evaluate_and_save_results(learner_aug_gpt3, distil_bert_augmented_gpt3, '/content/data_aug_irony/data/eval.csv', f'evaluation_results_augmented_gpt3_{percent_names[TOP_N]}.txt')"
      ]
    },
    {
      "cell_type": "markdown",
      "metadata": {
        "id": "nsiH3YCLIJBz"
      },
      "source": [
        "## Train classifier with augmented data from finetuned gpt2 and gpt3 combined"
      ]
    },
    {
      "cell_type": "markdown",
      "metadata": {
        "id": "sEbTOVBcIJBz"
      },
      "source": [
        "### Concatate training data with augmented data"
      ]
    },
    {
      "cell_type": "code",
      "execution_count": 46,
      "metadata": {
        "id": "tUMav8YbJcIB"
      },
      "outputs": [],
      "source": [
        "top_predictions_per_intent_gpt3_mixed = gpt3_data.drop_duplicates(subset='utterance', keep='first').sort_values(by=['intent', 'prediction_proba'], ascending=[True, False]).drop_duplicates(keep='first').groupby('intent').head(int(percent_of_augmentation[TOP_N]/2))\n",
        "top_predictions_per_intent_gpt2_mixed = gpt2_data.drop_duplicates(subset='utterance', keep='first').sort_values(by=['intent', 'prediction_proba'], ascending=[True, False]).drop_duplicates(keep='first').groupby('intent').head(int(percent_of_augmentation[TOP_N]/2))"
      ]
    },
    {
      "cell_type": "code",
      "execution_count": 47,
      "metadata": {
        "id": "XMAwQa0fIJB0"
      },
      "outputs": [],
      "source": [
        "data_train_aug_gpt_mixed = pd.concat([pd.read_csv(f'/content/data_aug_irony/data/k-fold-training-splits/split_{current_split}.csv'),\n",
        "                                      top_predictions_per_intent_gpt2_mixed[['intent', 'utterance']]], ignore_index=True)\n",
        "\n",
        "data_train_aug_gpt_mixed = pd.concat([data_train_aug_gpt_mixed,\n",
        "                                      top_predictions_per_intent_gpt3_mixed[['intent', 'utterance']]], ignore_index=True)\n",
        "\n",
        "X_aug_gpt_mixed = data_train_aug_gpt_mixed['utterance']\n",
        "y_aug_gpt_mixed = data_train_aug_gpt_mixed['intent']\n",
        "\n",
        "X_train_aug_gpt_mixed = []\n",
        "X_valid_aug_gpt_mixed = []\n",
        "y_train_aug_gpt_mixed = []\n",
        "y_valid_aug_gpt_mixed = []\n",
        "\n",
        "# Perform train-test split\n",
        "X_train_aug_gpt_mixed, X_valid_aug_gpt_mixed, y_train_aug_gpt_mixed, y_valid_aug_gpt_mixed = train_test_split(X_aug_gpt_mixed, y_aug_gpt_mixed, test_size=0.2, stratify=y_aug_gpt_mixed)\n",
        "\n",
        "X_train_aug_gpt_mixed = X_train_aug_gpt_mixed.tolist()\n",
        "X_valid_aug_gpt_mixed = X_valid_aug_gpt_mixed.tolist()\n",
        "y_train_aug_gpt_mixed = y_train_aug_gpt_mixed.tolist()\n",
        "y_valid_aug_gpt_mixed = y_valid_aug_gpt_mixed.tolist()\n",
        "\n",
        "X_train_aug_gpt_mixed = [str(x) for x in X_train_aug_gpt_mixed]\n",
        "X_valid_aug_gpt_mixed = [str(x) for x in X_valid_aug_gpt_mixed]"
      ]
    },
    {
      "cell_type": "code",
      "execution_count": 48,
      "metadata": {
        "id": "g8ELQ-4VcQXm",
        "colab": {
          "base_uri": "https://localhost:8080/",
          "height": 582
        },
        "outputId": "b5f57cdf-be09-4a5c-a75a-f739f89fd5cc"
      },
      "outputs": [
        {
          "output_type": "execute_result",
          "data": {
            "text/plain": [
              "         intent                                          utterance\n",
              "5515  sarcastic  Does anyone else feel a little uncomfortable o...\n",
              "4835  sarcastic  love watching celebrities being sarcastic and ...\n",
              "4146  sarcastic  There's nothing quite like seeing #CRS_Passeng...\n",
              "2069  sarcastic  I’m leaving the gym for one hour and three min...\n",
              "1700  sarcastic  How a quiet day at the office caused me to be ...\n",
              "1282  sarcastic  It’s not just me, it’s now the norm to acciden...\n",
              "2094  sarcastic  @mhampshirestewarti @jfoe Thanks for the remin...\n",
              "3157  sarcastic  wish im sry but doing my exam in the morning a...\n",
              "2458  sarcastic                     💙 how's covid doing on #HBO 💙?\n",
              "4660  sarcastic  @AishwariSarcastic A comment on the reason for...\n",
              "3707  sarcastic    Can’t wait to go to this restaurant next door 😀\n",
              "5069  sarcastic  I’ve been stuck in a traffic jam all morning t...\n",
              "4668  sarcastic  I didn’t realize it’s illegal to copy a song 👌...\n",
              "2544  sarcastic  really not looking forward to tomorrow when I ...\n",
              "3541  sarcastic  Y'all used to get work done earlier today by w...\n",
              "1344  sarcastic  this week saw another #TehraniAir plane hit wi...\n",
              "4622  sarcastic  Gonna get drunk with @jesskang @theladiestoybo..."
            ],
            "text/html": [
              "\n",
              "  <div id=\"df-86b8917f-ea4e-48e9-83a6-afb0e5014891\" class=\"colab-df-container\">\n",
              "    <div>\n",
              "<style scoped>\n",
              "    .dataframe tbody tr th:only-of-type {\n",
              "        vertical-align: middle;\n",
              "    }\n",
              "\n",
              "    .dataframe tbody tr th {\n",
              "        vertical-align: top;\n",
              "    }\n",
              "\n",
              "    .dataframe thead th {\n",
              "        text-align: right;\n",
              "    }\n",
              "</style>\n",
              "<table border=\"1\" class=\"dataframe\">\n",
              "  <thead>\n",
              "    <tr style=\"text-align: right;\">\n",
              "      <th></th>\n",
              "      <th>intent</th>\n",
              "      <th>utterance</th>\n",
              "    </tr>\n",
              "  </thead>\n",
              "  <tbody>\n",
              "    <tr>\n",
              "      <th>5515</th>\n",
              "      <td>sarcastic</td>\n",
              "      <td>Does anyone else feel a little uncomfortable o...</td>\n",
              "    </tr>\n",
              "    <tr>\n",
              "      <th>4835</th>\n",
              "      <td>sarcastic</td>\n",
              "      <td>love watching celebrities being sarcastic and ...</td>\n",
              "    </tr>\n",
              "    <tr>\n",
              "      <th>4146</th>\n",
              "      <td>sarcastic</td>\n",
              "      <td>There's nothing quite like seeing #CRS_Passeng...</td>\n",
              "    </tr>\n",
              "    <tr>\n",
              "      <th>2069</th>\n",
              "      <td>sarcastic</td>\n",
              "      <td>I’m leaving the gym for one hour and three min...</td>\n",
              "    </tr>\n",
              "    <tr>\n",
              "      <th>1700</th>\n",
              "      <td>sarcastic</td>\n",
              "      <td>How a quiet day at the office caused me to be ...</td>\n",
              "    </tr>\n",
              "    <tr>\n",
              "      <th>1282</th>\n",
              "      <td>sarcastic</td>\n",
              "      <td>It’s not just me, it’s now the norm to acciden...</td>\n",
              "    </tr>\n",
              "    <tr>\n",
              "      <th>2094</th>\n",
              "      <td>sarcastic</td>\n",
              "      <td>@mhampshirestewarti @jfoe Thanks for the remin...</td>\n",
              "    </tr>\n",
              "    <tr>\n",
              "      <th>3157</th>\n",
              "      <td>sarcastic</td>\n",
              "      <td>wish im sry but doing my exam in the morning a...</td>\n",
              "    </tr>\n",
              "    <tr>\n",
              "      <th>2458</th>\n",
              "      <td>sarcastic</td>\n",
              "      <td>💙 how's covid doing on #HBO 💙?</td>\n",
              "    </tr>\n",
              "    <tr>\n",
              "      <th>4660</th>\n",
              "      <td>sarcastic</td>\n",
              "      <td>@AishwariSarcastic A comment on the reason for...</td>\n",
              "    </tr>\n",
              "    <tr>\n",
              "      <th>3707</th>\n",
              "      <td>sarcastic</td>\n",
              "      <td>Can’t wait to go to this restaurant next door 😀</td>\n",
              "    </tr>\n",
              "    <tr>\n",
              "      <th>5069</th>\n",
              "      <td>sarcastic</td>\n",
              "      <td>I’ve been stuck in a traffic jam all morning t...</td>\n",
              "    </tr>\n",
              "    <tr>\n",
              "      <th>4668</th>\n",
              "      <td>sarcastic</td>\n",
              "      <td>I didn’t realize it’s illegal to copy a song 👌...</td>\n",
              "    </tr>\n",
              "    <tr>\n",
              "      <th>2544</th>\n",
              "      <td>sarcastic</td>\n",
              "      <td>really not looking forward to tomorrow when I ...</td>\n",
              "    </tr>\n",
              "    <tr>\n",
              "      <th>3541</th>\n",
              "      <td>sarcastic</td>\n",
              "      <td>Y'all used to get work done earlier today by w...</td>\n",
              "    </tr>\n",
              "    <tr>\n",
              "      <th>1344</th>\n",
              "      <td>sarcastic</td>\n",
              "      <td>this week saw another #TehraniAir plane hit wi...</td>\n",
              "    </tr>\n",
              "    <tr>\n",
              "      <th>4622</th>\n",
              "      <td>sarcastic</td>\n",
              "      <td>Gonna get drunk with @jesskang @theladiestoybo...</td>\n",
              "    </tr>\n",
              "  </tbody>\n",
              "</table>\n",
              "</div>\n",
              "    <div class=\"colab-df-buttons\">\n",
              "\n",
              "  <div class=\"colab-df-container\">\n",
              "    <button class=\"colab-df-convert\" onclick=\"convertToInteractive('df-86b8917f-ea4e-48e9-83a6-afb0e5014891')\"\n",
              "            title=\"Convert this dataframe to an interactive table.\"\n",
              "            style=\"display:none;\">\n",
              "\n",
              "  <svg xmlns=\"http://www.w3.org/2000/svg\" height=\"24px\" viewBox=\"0 -960 960 960\">\n",
              "    <path d=\"M120-120v-720h720v720H120Zm60-500h600v-160H180v160Zm220 220h160v-160H400v160Zm0 220h160v-160H400v160ZM180-400h160v-160H180v160Zm440 0h160v-160H620v160ZM180-180h160v-160H180v160Zm440 0h160v-160H620v160Z\"/>\n",
              "  </svg>\n",
              "    </button>\n",
              "\n",
              "  <style>\n",
              "    .colab-df-container {\n",
              "      display:flex;\n",
              "      gap: 12px;\n",
              "    }\n",
              "\n",
              "    .colab-df-convert {\n",
              "      background-color: #E8F0FE;\n",
              "      border: none;\n",
              "      border-radius: 50%;\n",
              "      cursor: pointer;\n",
              "      display: none;\n",
              "      fill: #1967D2;\n",
              "      height: 32px;\n",
              "      padding: 0 0 0 0;\n",
              "      width: 32px;\n",
              "    }\n",
              "\n",
              "    .colab-df-convert:hover {\n",
              "      background-color: #E2EBFA;\n",
              "      box-shadow: 0px 1px 2px rgba(60, 64, 67, 0.3), 0px 1px 3px 1px rgba(60, 64, 67, 0.15);\n",
              "      fill: #174EA6;\n",
              "    }\n",
              "\n",
              "    .colab-df-buttons div {\n",
              "      margin-bottom: 4px;\n",
              "    }\n",
              "\n",
              "    [theme=dark] .colab-df-convert {\n",
              "      background-color: #3B4455;\n",
              "      fill: #D2E3FC;\n",
              "    }\n",
              "\n",
              "    [theme=dark] .colab-df-convert:hover {\n",
              "      background-color: #434B5C;\n",
              "      box-shadow: 0px 1px 3px 1px rgba(0, 0, 0, 0.15);\n",
              "      filter: drop-shadow(0px 1px 2px rgba(0, 0, 0, 0.3));\n",
              "      fill: #FFFFFF;\n",
              "    }\n",
              "  </style>\n",
              "\n",
              "    <script>\n",
              "      const buttonEl =\n",
              "        document.querySelector('#df-86b8917f-ea4e-48e9-83a6-afb0e5014891 button.colab-df-convert');\n",
              "      buttonEl.style.display =\n",
              "        google.colab.kernel.accessAllowed ? 'block' : 'none';\n",
              "\n",
              "      async function convertToInteractive(key) {\n",
              "        const element = document.querySelector('#df-86b8917f-ea4e-48e9-83a6-afb0e5014891');\n",
              "        const dataTable =\n",
              "          await google.colab.kernel.invokeFunction('convertToInteractive',\n",
              "                                                    [key], {});\n",
              "        if (!dataTable) return;\n",
              "\n",
              "        const docLinkHtml = 'Like what you see? Visit the ' +\n",
              "          '<a target=\"_blank\" href=https://colab.research.google.com/notebooks/data_table.ipynb>data table notebook</a>'\n",
              "          + ' to learn more about interactive tables.';\n",
              "        element.innerHTML = '';\n",
              "        dataTable['output_type'] = 'display_data';\n",
              "        await google.colab.output.renderOutput(dataTable, element);\n",
              "        const docLink = document.createElement('div');\n",
              "        docLink.innerHTML = docLinkHtml;\n",
              "        element.appendChild(docLink);\n",
              "      }\n",
              "    </script>\n",
              "  </div>\n",
              "\n",
              "\n",
              "<div id=\"df-323f094a-234f-47f8-9f93-a463d8ed1227\">\n",
              "  <button class=\"colab-df-quickchart\" onclick=\"quickchart('df-323f094a-234f-47f8-9f93-a463d8ed1227')\"\n",
              "            title=\"Suggest charts\"\n",
              "            style=\"display:none;\">\n",
              "\n",
              "<svg xmlns=\"http://www.w3.org/2000/svg\" height=\"24px\"viewBox=\"0 0 24 24\"\n",
              "     width=\"24px\">\n",
              "    <g>\n",
              "        <path d=\"M19 3H5c-1.1 0-2 .9-2 2v14c0 1.1.9 2 2 2h14c1.1 0 2-.9 2-2V5c0-1.1-.9-2-2-2zM9 17H7v-7h2v7zm4 0h-2V7h2v10zm4 0h-2v-4h2v4z\"/>\n",
              "    </g>\n",
              "</svg>\n",
              "  </button>\n",
              "\n",
              "<style>\n",
              "  .colab-df-quickchart {\n",
              "      --bg-color: #E8F0FE;\n",
              "      --fill-color: #1967D2;\n",
              "      --hover-bg-color: #E2EBFA;\n",
              "      --hover-fill-color: #174EA6;\n",
              "      --disabled-fill-color: #AAA;\n",
              "      --disabled-bg-color: #DDD;\n",
              "  }\n",
              "\n",
              "  [theme=dark] .colab-df-quickchart {\n",
              "      --bg-color: #3B4455;\n",
              "      --fill-color: #D2E3FC;\n",
              "      --hover-bg-color: #434B5C;\n",
              "      --hover-fill-color: #FFFFFF;\n",
              "      --disabled-bg-color: #3B4455;\n",
              "      --disabled-fill-color: #666;\n",
              "  }\n",
              "\n",
              "  .colab-df-quickchart {\n",
              "    background-color: var(--bg-color);\n",
              "    border: none;\n",
              "    border-radius: 50%;\n",
              "    cursor: pointer;\n",
              "    display: none;\n",
              "    fill: var(--fill-color);\n",
              "    height: 32px;\n",
              "    padding: 0;\n",
              "    width: 32px;\n",
              "  }\n",
              "\n",
              "  .colab-df-quickchart:hover {\n",
              "    background-color: var(--hover-bg-color);\n",
              "    box-shadow: 0 1px 2px rgba(60, 64, 67, 0.3), 0 1px 3px 1px rgba(60, 64, 67, 0.15);\n",
              "    fill: var(--button-hover-fill-color);\n",
              "  }\n",
              "\n",
              "  .colab-df-quickchart-complete:disabled,\n",
              "  .colab-df-quickchart-complete:disabled:hover {\n",
              "    background-color: var(--disabled-bg-color);\n",
              "    fill: var(--disabled-fill-color);\n",
              "    box-shadow: none;\n",
              "  }\n",
              "\n",
              "  .colab-df-spinner {\n",
              "    border: 2px solid var(--fill-color);\n",
              "    border-color: transparent;\n",
              "    border-bottom-color: var(--fill-color);\n",
              "    animation:\n",
              "      spin 1s steps(1) infinite;\n",
              "  }\n",
              "\n",
              "  @keyframes spin {\n",
              "    0% {\n",
              "      border-color: transparent;\n",
              "      border-bottom-color: var(--fill-color);\n",
              "      border-left-color: var(--fill-color);\n",
              "    }\n",
              "    20% {\n",
              "      border-color: transparent;\n",
              "      border-left-color: var(--fill-color);\n",
              "      border-top-color: var(--fill-color);\n",
              "    }\n",
              "    30% {\n",
              "      border-color: transparent;\n",
              "      border-left-color: var(--fill-color);\n",
              "      border-top-color: var(--fill-color);\n",
              "      border-right-color: var(--fill-color);\n",
              "    }\n",
              "    40% {\n",
              "      border-color: transparent;\n",
              "      border-right-color: var(--fill-color);\n",
              "      border-top-color: var(--fill-color);\n",
              "    }\n",
              "    60% {\n",
              "      border-color: transparent;\n",
              "      border-right-color: var(--fill-color);\n",
              "    }\n",
              "    80% {\n",
              "      border-color: transparent;\n",
              "      border-right-color: var(--fill-color);\n",
              "      border-bottom-color: var(--fill-color);\n",
              "    }\n",
              "    90% {\n",
              "      border-color: transparent;\n",
              "      border-bottom-color: var(--fill-color);\n",
              "    }\n",
              "  }\n",
              "</style>\n",
              "\n",
              "  <script>\n",
              "    async function quickchart(key) {\n",
              "      const quickchartButtonEl =\n",
              "        document.querySelector('#' + key + ' button');\n",
              "      quickchartButtonEl.disabled = true;  // To prevent multiple clicks.\n",
              "      quickchartButtonEl.classList.add('colab-df-spinner');\n",
              "      try {\n",
              "        const charts = await google.colab.kernel.invokeFunction(\n",
              "            'suggestCharts', [key], {});\n",
              "      } catch (error) {\n",
              "        console.error('Error during call to suggestCharts:', error);\n",
              "      }\n",
              "      quickchartButtonEl.classList.remove('colab-df-spinner');\n",
              "      quickchartButtonEl.classList.add('colab-df-quickchart-complete');\n",
              "    }\n",
              "    (() => {\n",
              "      let quickchartButtonEl =\n",
              "        document.querySelector('#df-323f094a-234f-47f8-9f93-a463d8ed1227 button');\n",
              "      quickchartButtonEl.style.display =\n",
              "        google.colab.kernel.accessAllowed ? 'block' : 'none';\n",
              "    })();\n",
              "  </script>\n",
              "</div>\n",
              "    </div>\n",
              "  </div>\n"
            ]
          },
          "metadata": {},
          "execution_count": 48
        }
      ],
      "source": [
        "top_predictions_per_intent_gpt2_mixed[['intent', 'utterance']]"
      ]
    },
    {
      "cell_type": "code",
      "execution_count": 49,
      "metadata": {
        "id": "rsBqihfPcmRZ",
        "colab": {
          "base_uri": "https://localhost:8080/",
          "height": 582
        },
        "outputId": "04ba3415-0205-4588-b17b-f7725eddef5f"
      },
      "outputs": [
        {
          "output_type": "execute_result",
          "data": {
            "text/plain": [
              "         intent                                          utterance\n",
              "4759  sarcastic  Having the worst #anxiety day I've had in a wh...\n",
              "1390  sarcastic  Nothing like listening to an entire redneck fa...\n",
              "3573  sarcastic  having to go to my CRNA clinical like some sor...\n",
              "2175  sarcastic  Trying to limit taking my phone to the toilet ...\n",
              "1243  sarcastic  Breaking news: I almost didn’t make it back to...\n",
              "2884  sarcastic  Thanks @Apple for destroying my phone entire d...\n",
              "3902  sarcastic  @BuenaVistaYeast 🍧 is *too* cool for ❄️. #Unpo...\n",
              "5093  sarcastic  Been in uni for eleven days, just ate a proper...\n",
              "2763  sarcastic  the internet outrage committee is too much at ...\n",
              "2593  sarcastic  Love it when you book a day off to have a day ...\n",
              "761   sarcastic  @jemmalee93 The best kind of care package 😁\\n....\n",
              "3381  sarcastic  Cooked my squashes for over two hours, got fed...\n",
              "5378  sarcastic  ok but isn't college just the most FUN, i mean...\n",
              "2313  sarcastic  Love living in a student area where there is a...\n",
              "614   sarcastic  The high being 95°F today is bad, but the real...\n",
              "521   sarcastic  is there anything fun happening in the bham ar...\n",
              "483   sarcastic  @kwilli1046 If it smells the Prosecutor being ..."
            ],
            "text/html": [
              "\n",
              "  <div id=\"df-3e2d5fe4-2617-44c6-9a82-04c96a4f0ab8\" class=\"colab-df-container\">\n",
              "    <div>\n",
              "<style scoped>\n",
              "    .dataframe tbody tr th:only-of-type {\n",
              "        vertical-align: middle;\n",
              "    }\n",
              "\n",
              "    .dataframe tbody tr th {\n",
              "        vertical-align: top;\n",
              "    }\n",
              "\n",
              "    .dataframe thead th {\n",
              "        text-align: right;\n",
              "    }\n",
              "</style>\n",
              "<table border=\"1\" class=\"dataframe\">\n",
              "  <thead>\n",
              "    <tr style=\"text-align: right;\">\n",
              "      <th></th>\n",
              "      <th>intent</th>\n",
              "      <th>utterance</th>\n",
              "    </tr>\n",
              "  </thead>\n",
              "  <tbody>\n",
              "    <tr>\n",
              "      <th>4759</th>\n",
              "      <td>sarcastic</td>\n",
              "      <td>Having the worst #anxiety day I've had in a wh...</td>\n",
              "    </tr>\n",
              "    <tr>\n",
              "      <th>1390</th>\n",
              "      <td>sarcastic</td>\n",
              "      <td>Nothing like listening to an entire redneck fa...</td>\n",
              "    </tr>\n",
              "    <tr>\n",
              "      <th>3573</th>\n",
              "      <td>sarcastic</td>\n",
              "      <td>having to go to my CRNA clinical like some sor...</td>\n",
              "    </tr>\n",
              "    <tr>\n",
              "      <th>2175</th>\n",
              "      <td>sarcastic</td>\n",
              "      <td>Trying to limit taking my phone to the toilet ...</td>\n",
              "    </tr>\n",
              "    <tr>\n",
              "      <th>1243</th>\n",
              "      <td>sarcastic</td>\n",
              "      <td>Breaking news: I almost didn’t make it back to...</td>\n",
              "    </tr>\n",
              "    <tr>\n",
              "      <th>2884</th>\n",
              "      <td>sarcastic</td>\n",
              "      <td>Thanks @Apple for destroying my phone entire d...</td>\n",
              "    </tr>\n",
              "    <tr>\n",
              "      <th>3902</th>\n",
              "      <td>sarcastic</td>\n",
              "      <td>@BuenaVistaYeast 🍧 is *too* cool for ❄️. #Unpo...</td>\n",
              "    </tr>\n",
              "    <tr>\n",
              "      <th>5093</th>\n",
              "      <td>sarcastic</td>\n",
              "      <td>Been in uni for eleven days, just ate a proper...</td>\n",
              "    </tr>\n",
              "    <tr>\n",
              "      <th>2763</th>\n",
              "      <td>sarcastic</td>\n",
              "      <td>the internet outrage committee is too much at ...</td>\n",
              "    </tr>\n",
              "    <tr>\n",
              "      <th>2593</th>\n",
              "      <td>sarcastic</td>\n",
              "      <td>Love it when you book a day off to have a day ...</td>\n",
              "    </tr>\n",
              "    <tr>\n",
              "      <th>761</th>\n",
              "      <td>sarcastic</td>\n",
              "      <td>@jemmalee93 The best kind of care package 😁\\n....</td>\n",
              "    </tr>\n",
              "    <tr>\n",
              "      <th>3381</th>\n",
              "      <td>sarcastic</td>\n",
              "      <td>Cooked my squashes for over two hours, got fed...</td>\n",
              "    </tr>\n",
              "    <tr>\n",
              "      <th>5378</th>\n",
              "      <td>sarcastic</td>\n",
              "      <td>ok but isn't college just the most FUN, i mean...</td>\n",
              "    </tr>\n",
              "    <tr>\n",
              "      <th>2313</th>\n",
              "      <td>sarcastic</td>\n",
              "      <td>Love living in a student area where there is a...</td>\n",
              "    </tr>\n",
              "    <tr>\n",
              "      <th>614</th>\n",
              "      <td>sarcastic</td>\n",
              "      <td>The high being 95°F today is bad, but the real...</td>\n",
              "    </tr>\n",
              "    <tr>\n",
              "      <th>521</th>\n",
              "      <td>sarcastic</td>\n",
              "      <td>is there anything fun happening in the bham ar...</td>\n",
              "    </tr>\n",
              "    <tr>\n",
              "      <th>483</th>\n",
              "      <td>sarcastic</td>\n",
              "      <td>@kwilli1046 If it smells the Prosecutor being ...</td>\n",
              "    </tr>\n",
              "  </tbody>\n",
              "</table>\n",
              "</div>\n",
              "    <div class=\"colab-df-buttons\">\n",
              "\n",
              "  <div class=\"colab-df-container\">\n",
              "    <button class=\"colab-df-convert\" onclick=\"convertToInteractive('df-3e2d5fe4-2617-44c6-9a82-04c96a4f0ab8')\"\n",
              "            title=\"Convert this dataframe to an interactive table.\"\n",
              "            style=\"display:none;\">\n",
              "\n",
              "  <svg xmlns=\"http://www.w3.org/2000/svg\" height=\"24px\" viewBox=\"0 -960 960 960\">\n",
              "    <path d=\"M120-120v-720h720v720H120Zm60-500h600v-160H180v160Zm220 220h160v-160H400v160Zm0 220h160v-160H400v160ZM180-400h160v-160H180v160Zm440 0h160v-160H620v160ZM180-180h160v-160H180v160Zm440 0h160v-160H620v160Z\"/>\n",
              "  </svg>\n",
              "    </button>\n",
              "\n",
              "  <style>\n",
              "    .colab-df-container {\n",
              "      display:flex;\n",
              "      gap: 12px;\n",
              "    }\n",
              "\n",
              "    .colab-df-convert {\n",
              "      background-color: #E8F0FE;\n",
              "      border: none;\n",
              "      border-radius: 50%;\n",
              "      cursor: pointer;\n",
              "      display: none;\n",
              "      fill: #1967D2;\n",
              "      height: 32px;\n",
              "      padding: 0 0 0 0;\n",
              "      width: 32px;\n",
              "    }\n",
              "\n",
              "    .colab-df-convert:hover {\n",
              "      background-color: #E2EBFA;\n",
              "      box-shadow: 0px 1px 2px rgba(60, 64, 67, 0.3), 0px 1px 3px 1px rgba(60, 64, 67, 0.15);\n",
              "      fill: #174EA6;\n",
              "    }\n",
              "\n",
              "    .colab-df-buttons div {\n",
              "      margin-bottom: 4px;\n",
              "    }\n",
              "\n",
              "    [theme=dark] .colab-df-convert {\n",
              "      background-color: #3B4455;\n",
              "      fill: #D2E3FC;\n",
              "    }\n",
              "\n",
              "    [theme=dark] .colab-df-convert:hover {\n",
              "      background-color: #434B5C;\n",
              "      box-shadow: 0px 1px 3px 1px rgba(0, 0, 0, 0.15);\n",
              "      filter: drop-shadow(0px 1px 2px rgba(0, 0, 0, 0.3));\n",
              "      fill: #FFFFFF;\n",
              "    }\n",
              "  </style>\n",
              "\n",
              "    <script>\n",
              "      const buttonEl =\n",
              "        document.querySelector('#df-3e2d5fe4-2617-44c6-9a82-04c96a4f0ab8 button.colab-df-convert');\n",
              "      buttonEl.style.display =\n",
              "        google.colab.kernel.accessAllowed ? 'block' : 'none';\n",
              "\n",
              "      async function convertToInteractive(key) {\n",
              "        const element = document.querySelector('#df-3e2d5fe4-2617-44c6-9a82-04c96a4f0ab8');\n",
              "        const dataTable =\n",
              "          await google.colab.kernel.invokeFunction('convertToInteractive',\n",
              "                                                    [key], {});\n",
              "        if (!dataTable) return;\n",
              "\n",
              "        const docLinkHtml = 'Like what you see? Visit the ' +\n",
              "          '<a target=\"_blank\" href=https://colab.research.google.com/notebooks/data_table.ipynb>data table notebook</a>'\n",
              "          + ' to learn more about interactive tables.';\n",
              "        element.innerHTML = '';\n",
              "        dataTable['output_type'] = 'display_data';\n",
              "        await google.colab.output.renderOutput(dataTable, element);\n",
              "        const docLink = document.createElement('div');\n",
              "        docLink.innerHTML = docLinkHtml;\n",
              "        element.appendChild(docLink);\n",
              "      }\n",
              "    </script>\n",
              "  </div>\n",
              "\n",
              "\n",
              "<div id=\"df-033100fb-7117-4bce-ba40-2fb201b4e9bb\">\n",
              "  <button class=\"colab-df-quickchart\" onclick=\"quickchart('df-033100fb-7117-4bce-ba40-2fb201b4e9bb')\"\n",
              "            title=\"Suggest charts\"\n",
              "            style=\"display:none;\">\n",
              "\n",
              "<svg xmlns=\"http://www.w3.org/2000/svg\" height=\"24px\"viewBox=\"0 0 24 24\"\n",
              "     width=\"24px\">\n",
              "    <g>\n",
              "        <path d=\"M19 3H5c-1.1 0-2 .9-2 2v14c0 1.1.9 2 2 2h14c1.1 0 2-.9 2-2V5c0-1.1-.9-2-2-2zM9 17H7v-7h2v7zm4 0h-2V7h2v10zm4 0h-2v-4h2v4z\"/>\n",
              "    </g>\n",
              "</svg>\n",
              "  </button>\n",
              "\n",
              "<style>\n",
              "  .colab-df-quickchart {\n",
              "      --bg-color: #E8F0FE;\n",
              "      --fill-color: #1967D2;\n",
              "      --hover-bg-color: #E2EBFA;\n",
              "      --hover-fill-color: #174EA6;\n",
              "      --disabled-fill-color: #AAA;\n",
              "      --disabled-bg-color: #DDD;\n",
              "  }\n",
              "\n",
              "  [theme=dark] .colab-df-quickchart {\n",
              "      --bg-color: #3B4455;\n",
              "      --fill-color: #D2E3FC;\n",
              "      --hover-bg-color: #434B5C;\n",
              "      --hover-fill-color: #FFFFFF;\n",
              "      --disabled-bg-color: #3B4455;\n",
              "      --disabled-fill-color: #666;\n",
              "  }\n",
              "\n",
              "  .colab-df-quickchart {\n",
              "    background-color: var(--bg-color);\n",
              "    border: none;\n",
              "    border-radius: 50%;\n",
              "    cursor: pointer;\n",
              "    display: none;\n",
              "    fill: var(--fill-color);\n",
              "    height: 32px;\n",
              "    padding: 0;\n",
              "    width: 32px;\n",
              "  }\n",
              "\n",
              "  .colab-df-quickchart:hover {\n",
              "    background-color: var(--hover-bg-color);\n",
              "    box-shadow: 0 1px 2px rgba(60, 64, 67, 0.3), 0 1px 3px 1px rgba(60, 64, 67, 0.15);\n",
              "    fill: var(--button-hover-fill-color);\n",
              "  }\n",
              "\n",
              "  .colab-df-quickchart-complete:disabled,\n",
              "  .colab-df-quickchart-complete:disabled:hover {\n",
              "    background-color: var(--disabled-bg-color);\n",
              "    fill: var(--disabled-fill-color);\n",
              "    box-shadow: none;\n",
              "  }\n",
              "\n",
              "  .colab-df-spinner {\n",
              "    border: 2px solid var(--fill-color);\n",
              "    border-color: transparent;\n",
              "    border-bottom-color: var(--fill-color);\n",
              "    animation:\n",
              "      spin 1s steps(1) infinite;\n",
              "  }\n",
              "\n",
              "  @keyframes spin {\n",
              "    0% {\n",
              "      border-color: transparent;\n",
              "      border-bottom-color: var(--fill-color);\n",
              "      border-left-color: var(--fill-color);\n",
              "    }\n",
              "    20% {\n",
              "      border-color: transparent;\n",
              "      border-left-color: var(--fill-color);\n",
              "      border-top-color: var(--fill-color);\n",
              "    }\n",
              "    30% {\n",
              "      border-color: transparent;\n",
              "      border-left-color: var(--fill-color);\n",
              "      border-top-color: var(--fill-color);\n",
              "      border-right-color: var(--fill-color);\n",
              "    }\n",
              "    40% {\n",
              "      border-color: transparent;\n",
              "      border-right-color: var(--fill-color);\n",
              "      border-top-color: var(--fill-color);\n",
              "    }\n",
              "    60% {\n",
              "      border-color: transparent;\n",
              "      border-right-color: var(--fill-color);\n",
              "    }\n",
              "    80% {\n",
              "      border-color: transparent;\n",
              "      border-right-color: var(--fill-color);\n",
              "      border-bottom-color: var(--fill-color);\n",
              "    }\n",
              "    90% {\n",
              "      border-color: transparent;\n",
              "      border-bottom-color: var(--fill-color);\n",
              "    }\n",
              "  }\n",
              "</style>\n",
              "\n",
              "  <script>\n",
              "    async function quickchart(key) {\n",
              "      const quickchartButtonEl =\n",
              "        document.querySelector('#' + key + ' button');\n",
              "      quickchartButtonEl.disabled = true;  // To prevent multiple clicks.\n",
              "      quickchartButtonEl.classList.add('colab-df-spinner');\n",
              "      try {\n",
              "        const charts = await google.colab.kernel.invokeFunction(\n",
              "            'suggestCharts', [key], {});\n",
              "      } catch (error) {\n",
              "        console.error('Error during call to suggestCharts:', error);\n",
              "      }\n",
              "      quickchartButtonEl.classList.remove('colab-df-spinner');\n",
              "      quickchartButtonEl.classList.add('colab-df-quickchart-complete');\n",
              "    }\n",
              "    (() => {\n",
              "      let quickchartButtonEl =\n",
              "        document.querySelector('#df-033100fb-7117-4bce-ba40-2fb201b4e9bb button');\n",
              "      quickchartButtonEl.style.display =\n",
              "        google.colab.kernel.accessAllowed ? 'block' : 'none';\n",
              "    })();\n",
              "  </script>\n",
              "</div>\n",
              "    </div>\n",
              "  </div>\n"
            ]
          },
          "metadata": {},
          "execution_count": 49
        }
      ],
      "source": [
        "top_predictions_per_intent_gpt3_mixed[['intent', 'utterance']]"
      ]
    },
    {
      "cell_type": "markdown",
      "metadata": {
        "id": "UQX2w7xtIJB0"
      },
      "source": [
        "### Initialise augmented model and learner"
      ]
    },
    {
      "cell_type": "code",
      "execution_count": 50,
      "metadata": {
        "id": "7HKWU-SzIJB0"
      },
      "outputs": [],
      "source": [
        "distil_bert_augmented_gpt_mixed = text.Transformer(GLOBAL_BERT_MODEL, maxlen=GLOBAL_MAXLEN)"
      ]
    },
    {
      "cell_type": "code",
      "execution_count": 51,
      "metadata": {
        "id": "OYNugqqsIJB1",
        "colab": {
          "base_uri": "https://localhost:8080/",
          "height": 243
        },
        "outputId": "dbdaef25-c49f-4220-a7f9-2293e669f3c6"
      },
      "outputs": [
        {
          "output_type": "stream",
          "name": "stdout",
          "text": [
            "preprocessing train...\n",
            "language: en\n",
            "train sequence lengths:\n",
            "\tmean : 19\n",
            "\t95percentile : 43\n",
            "\t99percentile : 50\n"
          ]
        },
        {
          "output_type": "display_data",
          "data": {
            "text/plain": [
              "<IPython.core.display.HTML object>"
            ],
            "text/html": [
              "\n",
              "<style>\n",
              "    /* Turns off some styling */\n",
              "    progress {\n",
              "        /* gets rid of default border in Firefox and Opera. */\n",
              "        border: none;\n",
              "        /* Needs to be in here for Safari polyfill so background images work as expected. */\n",
              "        background-size: auto;\n",
              "    }\n",
              "    progress:not([value]), progress:not([value])::-webkit-progress-bar {\n",
              "        background: repeating-linear-gradient(45deg, #7e7e7e, #7e7e7e 10px, #5c5c5c 10px, #5c5c5c 20px);\n",
              "    }\n",
              "    .progress-bar-interrupted, .progress-bar-interrupted::-webkit-progress-bar {\n",
              "        background: #F44336;\n",
              "    }\n",
              "</style>\n"
            ]
          },
          "metadata": {}
        },
        {
          "output_type": "display_data",
          "data": {
            "text/plain": [
              "<IPython.core.display.HTML object>"
            ],
            "text/html": []
          },
          "metadata": {}
        },
        {
          "output_type": "stream",
          "name": "stdout",
          "text": [
            "Is Multi-Label? False\n",
            "preprocessing test...\n",
            "language: en\n",
            "test sequence lengths:\n",
            "\tmean : 20\n",
            "\t95percentile : 43\n",
            "\t99percentile : 52\n"
          ]
        },
        {
          "output_type": "display_data",
          "data": {
            "text/plain": [
              "<IPython.core.display.HTML object>"
            ],
            "text/html": [
              "\n",
              "<style>\n",
              "    /* Turns off some styling */\n",
              "    progress {\n",
              "        /* gets rid of default border in Firefox and Opera. */\n",
              "        border: none;\n",
              "        /* Needs to be in here for Safari polyfill so background images work as expected. */\n",
              "        background-size: auto;\n",
              "    }\n",
              "    progress:not([value]), progress:not([value])::-webkit-progress-bar {\n",
              "        background: repeating-linear-gradient(45deg, #7e7e7e, #7e7e7e 10px, #5c5c5c 10px, #5c5c5c 20px);\n",
              "    }\n",
              "    .progress-bar-interrupted, .progress-bar-interrupted::-webkit-progress-bar {\n",
              "        background: #F44336;\n",
              "    }\n",
              "</style>\n"
            ]
          },
          "metadata": {}
        },
        {
          "output_type": "display_data",
          "data": {
            "text/plain": [
              "<IPython.core.display.HTML object>"
            ],
            "text/html": []
          },
          "metadata": {}
        }
      ],
      "source": [
        "processed_train_aug_gpt_mixed = distil_bert_augmented_gpt_mixed.preprocess_train(X_train_aug_gpt_mixed, y_train_aug_gpt_mixed)\n",
        "processed_test_aug_gpt_mixed = distil_bert_augmented_gpt_mixed.preprocess_test(X_valid_aug_gpt_mixed, y_valid_aug_gpt_mixed)"
      ]
    },
    {
      "cell_type": "code",
      "execution_count": 52,
      "metadata": {
        "id": "xKEEK7MRIJB2"
      },
      "outputs": [],
      "source": [
        "model_aug_gpt_mixed = distil_bert_augmented_gpt_mixed.get_classifier()\n",
        "learner_aug_gpt_mixed = ktrain.get_learner(model_aug_gpt_mixed, train_data=processed_train_aug_gpt_mixed, val_data=processed_test_aug_gpt_mixed, batch_size=GLOBAL_BATCH_SIZE)"
      ]
    },
    {
      "cell_type": "markdown",
      "metadata": {
        "id": "K7_zsaAcIJB3"
      },
      "source": [
        "### Train classifier"
      ]
    },
    {
      "cell_type": "code",
      "execution_count": 53,
      "metadata": {
        "id": "nDZWGETyIJB3",
        "colab": {
          "base_uri": "https://localhost:8080/"
        },
        "outputId": "37c9fe22-4f82-4e48-aeba-b582f864794a"
      },
      "outputs": [
        {
          "output_type": "stream",
          "name": "stdout",
          "text": [
            "\n",
            "\n",
            "begin training using onecycle policy with max lr of 0.0001...\n",
            "Epoch 1/12\n",
            "19/19 [==============================] - 18s 531ms/step - loss: 0.6270 - accuracy: 0.6821 - val_loss: 0.6160 - val_accuracy: 0.7123\n",
            "Epoch 2/12\n",
            "19/19 [==============================] - 8s 419ms/step - loss: 0.5912 - accuracy: 0.7285 - val_loss: 0.6168 - val_accuracy: 0.7123\n",
            "Epoch 3/12\n",
            "19/19 [==============================] - 8s 421ms/step - loss: 0.5960 - accuracy: 0.7062 - val_loss: 0.5785 - val_accuracy: 0.7123\n",
            "Epoch 4/12\n",
            "19/19 [==============================] - 8s 420ms/step - loss: 0.4962 - accuracy: 0.7577 - val_loss: 0.9294 - val_accuracy: 0.2877\n",
            "Epoch 5/12\n",
            "19/19 [==============================] - 8s 413ms/step - loss: 0.4684 - accuracy: 0.8041 - val_loss: 0.8522 - val_accuracy: 0.6849\n",
            "Epoch 6/12\n",
            "19/19 [==============================] - 8s 414ms/step - loss: 0.4066 - accuracy: 0.8419 - val_loss: 0.6928 - val_accuracy: 0.7192\n",
            "Epoch 7/12\n",
            "19/19 [==============================] - 8s 409ms/step - loss: 0.3380 - accuracy: 0.9021 - val_loss: 0.7934 - val_accuracy: 0.7123\n",
            "Epoch 8/12\n",
            "19/19 [==============================] - 8s 411ms/step - loss: 0.2728 - accuracy: 0.9141 - val_loss: 0.9105 - val_accuracy: 0.6507\n",
            "Epoch 9/12\n",
            "19/19 [==============================] - 8s 416ms/step - loss: 0.2058 - accuracy: 0.9416 - val_loss: 0.9602 - val_accuracy: 0.6781\n",
            "Epoch 10/12\n",
            "19/19 [==============================] - 8s 409ms/step - loss: 0.1602 - accuracy: 0.9553 - val_loss: 1.0453 - val_accuracy: 0.6507\n",
            "Epoch 11/12\n",
            "19/19 [==============================] - 8s 413ms/step - loss: 0.1521 - accuracy: 0.9622 - val_loss: 0.9799 - val_accuracy: 0.6849\n",
            "Epoch 12/12\n",
            "19/19 [==============================] - 9s 451ms/step - loss: 0.1492 - accuracy: 0.9622 - val_loss: 0.9889 - val_accuracy: 0.6712\n"
          ]
        },
        {
          "output_type": "execute_result",
          "data": {
            "text/plain": [
              "<keras.src.callbacks.History at 0x7e0f985309a0>"
            ]
          },
          "metadata": {},
          "execution_count": 53
        }
      ],
      "source": [
        "learner_aug_gpt_mixed.fit_onecycle(GLOBAL_LEARNING_RATE, N_TRAINING_EPOCHS_AUGMENTED)"
      ]
    },
    {
      "cell_type": "code",
      "execution_count": 54,
      "metadata": {
        "id": "8nPcH7RMIJB4",
        "colab": {
          "base_uri": "https://localhost:8080/",
          "height": 703
        },
        "outputId": "fe7f1650-c839-4799-d5d6-2cb0efd44581"
      },
      "outputs": [
        {
          "output_type": "stream",
          "name": "stdout",
          "text": [
            "<ktrain.text.predictor.TextPredictor object at 0x7e0f984cbd00>\n",
            "Accuracy: 82.79%\n",
            "Log-loss: 0.5856\n",
            "AUC-ROC: 0.5951\n",
            "Precision: 0.7998\n",
            "Recall: 0.8279\n",
            "F-Score: 0.8112\n",
            "Specificity: 0.9300\n"
          ]
        },
        {
          "output_type": "display_data",
          "data": {
            "text/plain": [
              "<Figure size 800x600 with 2 Axes>"
            ],
            "image/png": "[encoded data removed]"
          },
          "metadata": {}
        }
      ],
      "source": [
        "evaluate_and_save_results(learner_aug_gpt_mixed, distil_bert_augmented_gpt_mixed, '/content/data_aug_irony/data/eval.csv', f'evaluation_results_augmented_gpt_mixed_{percent_names[TOP_N]}.txt')"
      ]
    },
    {
      "cell_type": "markdown",
      "metadata": {
        "id": "9dV3jZiXEWhk"
      },
      "source": [
        "# download all files from session"
      ]
    },
    {
      "cell_type": "markdown",
      "source": [
        "Util provided by ChatGPT"
      ],
      "metadata": {
        "id": "OIqLMj0gRyZL"
      }
    },
    {
      "cell_type": "code",
      "execution_count": 55,
      "metadata": {
        "id": "Ya2kjGEpEYr9",
        "colab": {
          "base_uri": "https://localhost:8080/",
          "height": 17
        },
        "outputId": "b19c2ccf-6b40-4309-dc91-06bd4de2d0e4"
      },
      "outputs": [
        {
          "output_type": "display_data",
          "data": {
            "text/plain": [
              "<IPython.core.display.Javascript object>"
            ],
            "application/javascript": [
              "\n",
              "    async function download(id, filename, size) {\n",
              "      if (!google.colab.kernel.accessAllowed) {\n",
              "        return;\n",
              "      }\n",
              "      const div = document.createElement('div');\n",
              "      const label = document.createElement('label');\n",
              "      label.textContent = `Downloading \"${filename}\": `;\n",
              "      div.appendChild(label);\n",
              "      const progress = document.createElement('progress');\n",
              "      progress.max = size;\n",
              "      div.appendChild(progress);\n",
              "      document.body.appendChild(div);\n",
              "\n",
              "      const buffers = [];\n",
              "      let downloaded = 0;\n",
              "\n",
              "      const channel = await google.colab.kernel.comms.open(id);\n",
              "      // Send a message to notify the kernel that we're ready.\n",
              "      channel.send({})\n",
              "\n",
              "      for await (const message of channel.messages) {\n",
              "        // Send a message to notify the kernel that we're ready.\n",
              "        channel.send({})\n",
              "        if (message.buffers) {\n",
              "          for (const buffer of message.buffers) {\n",
              "            buffers.push(buffer);\n",
              "            downloaded += buffer.byteLength;\n",
              "            progress.value = downloaded;\n",
              "          }\n",
              "        }\n",
              "      }\n",
              "      const blob = new Blob(buffers, {type: 'application/binary'});\n",
              "      const a = document.createElement('a');\n",
              "      a.href = window.URL.createObjectURL(blob);\n",
              "      a.download = filename;\n",
              "      div.appendChild(a);\n",
              "      a.click();\n",
              "      div.remove();\n",
              "    }\n",
              "  "
            ]
          },
          "metadata": {}
        },
        {
          "output_type": "display_data",
          "data": {
            "text/plain": [
              "<IPython.core.display.Javascript object>"
            ],
            "application/javascript": [
              "download(\"download_4ad53ed4-95d2-4523-a3c0-009ca152542e\", \"result_files_test.zip\", 78318)"
            ]
          },
          "metadata": {}
        }
      ],
      "source": [
        "import os\n",
        "import shutil\n",
        "from zipfile import ZipFile\n",
        "from google.colab import files\n",
        "\n",
        "def zip_and_download_files():\n",
        "    # Create a new folder to store the files\n",
        "    folder_name = 'result_files_test'\n",
        "    os.makedirs(folder_name, exist_ok=True)\n",
        "\n",
        "    # Get all files starting with 'evaluation' in the current directory\n",
        "    files_to_copy = [file for file in os.listdir() if file.startswith('evaluation')]\n",
        "\n",
        "    # Copy files to the new folder\n",
        "    for file in files_to_copy:\n",
        "        src_path = file\n",
        "        dst_path = os.path.join(folder_name, file)\n",
        "        shutil.copy2(src_path, dst_path)\n",
        "\n",
        "    # Zip the folder\n",
        "    zip_file_path = shutil.make_archive(folder_name, 'zip', folder_name)\n",
        "\n",
        "    # Download the zip file\n",
        "    files.download(zip_file_path)\n",
        "\n",
        "# Call the function to execute the task\n",
        "zip_and_download_files()\n"
      ]
    }
  ],
  "metadata": {
    "accelerator": "GPU",
    "colab": {
      "collapsed_sections": [
        "9dV3jZiXEWhk"
      ],
      "provenance": []
    },
    "kernelspec": {
      "display_name": "Python 3",
      "name": "python3"
    },
    "language_info": {
      "name": "python"
    },
    "widgets": {
      "application/vnd.jupyter.widget-state+json": {
        "5cfc680bf2d24f5aa019d50dd77d6155": {
          "model_module": "@jupyter-widgets/controls",
          "model_name": "HBoxModel",
          "model_module_version": "1.5.0",
          "state": {
            "_dom_classes": [],
            "_model_module": "@jupyter-widgets/controls",
            "_model_module_version": "1.5.0",
            "_model_name": "HBoxModel",
            "_view_count": null,
            "_view_module": "@jupyter-widgets/controls",
            "_view_module_version": "1.5.0",
            "_view_name": "HBoxView",
            "box_style": "",
            "children": [
              "IPY_MODEL_660fcb6623e1467fac1268f2484afe34",
              "IPY_MODEL_8c7eba36bf8c43afa4cb77578ec53b5f",
              "IPY_MODEL_12cdf68a438045a69bdc909243d3782e"
            ],
            "layout": "IPY_MODEL_d4920cd1a436488b89e276595f7b3f91"
          }
        },
        "660fcb6623e1467fac1268f2484afe34": {
          "model_module": "@jupyter-widgets/controls",
          "model_name": "HTMLModel",
          "model_module_version": "1.5.0",
          "state": {
            "_dom_classes": [],
            "_model_module": "@jupyter-widgets/controls",
            "_model_module_version": "1.5.0",
            "_model_name": "HTMLModel",
            "_view_count": null,
            "_view_module": "@jupyter-widgets/controls",
            "_view_module_version": "1.5.0",
            "_view_name": "HTMLView",
            "description": "",
            "description_tooltip": null,
            "layout": "IPY_MODEL_04fc85d43315487082ff5b60a3da3d42",
            "placeholder": "​",
            "style": "IPY_MODEL_208e5f7652334c2791d439602993d9c7",
            "value": "config.json: 100%"
          }
        },
        "8c7eba36bf8c43afa4cb77578ec53b5f": {
          "model_module": "@jupyter-widgets/controls",
          "model_name": "FloatProgressModel",
          "model_module_version": "1.5.0",
          "state": {
            "_dom_classes": [],
            "_model_module": "@jupyter-widgets/controls",
            "_model_module_version": "1.5.0",
            "_model_name": "FloatProgressModel",
            "_view_count": null,
            "_view_module": "@jupyter-widgets/controls",
            "_view_module_version": "1.5.0",
            "_view_name": "ProgressView",
            "bar_style": "success",
            "description": "",
            "description_tooltip": null,
            "layout": "IPY_MODEL_1236e40ee7a948b394257bbe2dbe1d51",
            "max": 465,
            "min": 0,
            "orientation": "horizontal",
            "style": "IPY_MODEL_ec68c2cea0404f5b8b8a12fef1fa8ffb",
            "value": 465
          }
        },
        "12cdf68a438045a69bdc909243d3782e": {
          "model_module": "@jupyter-widgets/controls",
          "model_name": "HTMLModel",
          "model_module_version": "1.5.0",
          "state": {
            "_dom_classes": [],
            "_model_module": "@jupyter-widgets/controls",
            "_model_module_version": "1.5.0",
            "_model_name": "HTMLModel",
            "_view_count": null,
            "_view_module": "@jupyter-widgets/controls",
            "_view_module_version": "1.5.0",
            "_view_name": "HTMLView",
            "description": "",
            "description_tooltip": null,
            "layout": "IPY_MODEL_6791ff732edc4d38a63428a8101d8a66",
            "placeholder": "​",
            "style": "IPY_MODEL_48077939ca004c97b3547327b025bf40",
            "value": " 465/465 [00:00&lt;00:00, 22.7kB/s]"
          }
        },
        "d4920cd1a436488b89e276595f7b3f91": {
          "model_module": "@jupyter-widgets/base",
          "model_name": "LayoutModel",
          "model_module_version": "1.2.0",
          "state": {
            "_model_module": "@jupyter-widgets/base",
            "_model_module_version": "1.2.0",
            "_model_name": "LayoutModel",
            "_view_count": null,
            "_view_module": "@jupyter-widgets/base",
            "_view_module_version": "1.2.0",
            "_view_name": "LayoutView",
            "align_content": null,
            "align_items": null,
            "align_self": null,
            "border": null,
            "bottom": null,
            "display": null,
            "flex": null,
            "flex_flow": null,
            "grid_area": null,
            "grid_auto_columns": null,
            "grid_auto_flow": null,
            "grid_auto_rows": null,
            "grid_column": null,
            "grid_gap": null,
            "grid_row": null,
            "grid_template_areas": null,
            "grid_template_columns": null,
            "grid_template_rows": null,
            "height": null,
            "justify_content": null,
            "justify_items": null,
            "left": null,
            "margin": null,
            "max_height": null,
            "max_width": null,
            "min_height": null,
            "min_width": null,
            "object_fit": null,
            "object_position": null,
            "order": null,
            "overflow": null,
            "overflow_x": null,
            "overflow_y": null,
            "padding": null,
            "right": null,
            "top": null,
            "visibility": null,
            "width": null
          }
        },
        "04fc85d43315487082ff5b60a3da3d42": {
          "model_module": "@jupyter-widgets/base",
          "model_name": "LayoutModel",
          "model_module_version": "1.2.0",
          "state": {
            "_model_module": "@jupyter-widgets/base",
            "_model_module_version": "1.2.0",
            "_model_name": "LayoutModel",
            "_view_count": null,
            "_view_module": "@jupyter-widgets/base",
            "_view_module_version": "1.2.0",
            "_view_name": "LayoutView",
            "align_content": null,
            "align_items": null,
            "align_self": null,
            "border": null,
            "bottom": null,
            "display": null,
            "flex": null,
            "flex_flow": null,
            "grid_area": null,
            "grid_auto_columns": null,
            "grid_auto_flow": null,
            "grid_auto_rows": null,
            "grid_column": null,
            "grid_gap": null,
            "grid_row": null,
            "grid_template_areas": null,
            "grid_template_columns": null,
            "grid_template_rows": null,
            "height": null,
            "justify_content": null,
            "justify_items": null,
            "left": null,
            "margin": null,
            "max_height": null,
            "max_width": null,
            "min_height": null,
            "min_width": null,
            "object_fit": null,
            "object_position": null,
            "order": null,
            "overflow": null,
            "overflow_x": null,
            "overflow_y": null,
            "padding": null,
            "right": null,
            "top": null,
            "visibility": null,
            "width": null
          }
        },
        "208e5f7652334c2791d439602993d9c7": {
          "model_module": "@jupyter-widgets/controls",
          "model_name": "DescriptionStyleModel",
          "model_module_version": "1.5.0",
          "state": {
            "_model_module": "@jupyter-widgets/controls",
            "_model_module_version": "1.5.0",
            "_model_name": "DescriptionStyleModel",
            "_view_count": null,
            "_view_module": "@jupyter-widgets/base",
            "_view_module_version": "1.2.0",
            "_view_name": "StyleView",
            "description_width": ""
          }
        },
        "1236e40ee7a948b394257bbe2dbe1d51": {
          "model_module": "@jupyter-widgets/base",
          "model_name": "LayoutModel",
          "model_module_version": "1.2.0",
          "state": {
            "_model_module": "@jupyter-widgets/base",
            "_model_module_version": "1.2.0",
            "_model_name": "LayoutModel",
            "_view_count": null,
            "_view_module": "@jupyter-widgets/base",
            "_view_module_version": "1.2.0",
            "_view_name": "LayoutView",
            "align_content": null,
            "align_items": null,
            "align_self": null,
            "border": null,
            "bottom": null,
            "display": null,
            "flex": null,
            "flex_flow": null,
            "grid_area": null,
            "grid_auto_columns": null,
            "grid_auto_flow": null,
            "grid_auto_rows": null,
            "grid_column": null,
            "grid_gap": null,
            "grid_row": null,
            "grid_template_areas": null,
            "grid_template_columns": null,
            "grid_template_rows": null,
            "height": null,
            "justify_content": null,
            "justify_items": null,
            "left": null,
            "margin": null,
            "max_height": null,
            "max_width": null,
            "min_height": null,
            "min_width": null,
            "object_fit": null,
            "object_position": null,
            "order": null,
            "overflow": null,
            "overflow_x": null,
            "overflow_y": null,
            "padding": null,
            "right": null,
            "top": null,
            "visibility": null,
            "width": null
          }
        },
        "ec68c2cea0404f5b8b8a12fef1fa8ffb": {
          "model_module": "@jupyter-widgets/controls",
          "model_name": "ProgressStyleModel",
          "model_module_version": "1.5.0",
          "state": {
            "_model_module": "@jupyter-widgets/controls",
            "_model_module_version": "1.5.0",
            "_model_name": "ProgressStyleModel",
            "_view_count": null,
            "_view_module": "@jupyter-widgets/base",
            "_view_module_version": "1.2.0",
            "_view_name": "StyleView",
            "bar_color": null,
            "description_width": ""
          }
        },
        "6791ff732edc4d38a63428a8101d8a66": {
          "model_module": "@jupyter-widgets/base",
          "model_name": "LayoutModel",
          "model_module_version": "1.2.0",
          "state": {
            "_model_module": "@jupyter-widgets/base",
            "_model_module_version": "1.2.0",
            "_model_name": "LayoutModel",
            "_view_count": null,
            "_view_module": "@jupyter-widgets/base",
            "_view_module_version": "1.2.0",
            "_view_name": "LayoutView",
            "align_content": null,
            "align_items": null,
            "align_self": null,
            "border": null,
            "bottom": null,
            "display": null,
            "flex": null,
            "flex_flow": null,
            "grid_area": null,
            "grid_auto_columns": null,
            "grid_auto_flow": null,
            "grid_auto_rows": null,
            "grid_column": null,
            "grid_gap": null,
            "grid_row": null,
            "grid_template_areas": null,
            "grid_template_columns": null,
            "grid_template_rows": null,
            "height": null,
            "justify_content": null,
            "justify_items": null,
            "left": null,
            "margin": null,
            "max_height": null,
            "max_width": null,
            "min_height": null,
            "min_width": null,
            "object_fit": null,
            "object_position": null,
            "order": null,
            "overflow": null,
            "overflow_x": null,
            "overflow_y": null,
            "padding": null,
            "right": null,
            "top": null,
            "visibility": null,
            "width": null
          }
        },
        "48077939ca004c97b3547327b025bf40": {
          "model_module": "@jupyter-widgets/controls",
          "model_name": "DescriptionStyleModel",
          "model_module_version": "1.5.0",
          "state": {
            "_model_module": "@jupyter-widgets/controls",
            "_model_module_version": "1.5.0",
            "_model_name": "DescriptionStyleModel",
            "_view_count": null,
            "_view_module": "@jupyter-widgets/base",
            "_view_module_version": "1.2.0",
            "_view_name": "StyleView",
            "description_width": ""
          }
        },
        "f1143fb59aa446aab44a5ab0caa4b24f": {
          "model_module": "@jupyter-widgets/controls",
          "model_name": "HBoxModel",
          "model_module_version": "1.5.0",
          "state": {
            "_dom_classes": [],
            "_model_module": "@jupyter-widgets/controls",
            "_model_module_version": "1.5.0",
            "_model_name": "HBoxModel",
            "_view_count": null,
            "_view_module": "@jupyter-widgets/controls",
            "_view_module_version": "1.5.0",
            "_view_name": "HBoxView",
            "box_style": "",
            "children": [
              "IPY_MODEL_1369a8e5937a435e919aa9ba185a5ea2",
              "IPY_MODEL_d77a68155c0e4e1d82bb3bf22147714b",
              "IPY_MODEL_742d69f5d6884f24bc335bcb573c354f"
            ],
            "layout": "IPY_MODEL_4f946a3ecf5144abb2d5440ec22197b4"
          }
        },
        "1369a8e5937a435e919aa9ba185a5ea2": {
          "model_module": "@jupyter-widgets/controls",
          "model_name": "HTMLModel",
          "model_module_version": "1.5.0",
          "state": {
            "_dom_classes": [],
            "_model_module": "@jupyter-widgets/controls",
            "_model_module_version": "1.5.0",
            "_model_name": "HTMLModel",
            "_view_count": null,
            "_view_module": "@jupyter-widgets/controls",
            "_view_module_version": "1.5.0",
            "_view_name": "HTMLView",
            "description": "",
            "description_tooltip": null,
            "layout": "IPY_MODEL_fefff765fc5548adab1e641c19c789e5",
            "placeholder": "​",
            "style": "IPY_MODEL_390341ff35b0428884ed084328445b05",
            "value": "model.safetensors: 100%"
          }
        },
        "d77a68155c0e4e1d82bb3bf22147714b": {
          "model_module": "@jupyter-widgets/controls",
          "model_name": "FloatProgressModel",
          "model_module_version": "1.5.0",
          "state": {
            "_dom_classes": [],
            "_model_module": "@jupyter-widgets/controls",
            "_model_module_version": "1.5.0",
            "_model_name": "FloatProgressModel",
            "_view_count": null,
            "_view_module": "@jupyter-widgets/controls",
            "_view_module_version": "1.5.0",
            "_view_name": "ProgressView",
            "bar_style": "success",
            "description": "",
            "description_tooltip": null,
            "layout": "IPY_MODEL_ec0fa279c51d4b17a8c5b2a2152d4a53",
            "max": 263260784,
            "min": 0,
            "orientation": "horizontal",
            "style": "IPY_MODEL_9e617649f4d846d386f86f1c39b494eb",
            "value": 263260784
          }
        },
        "742d69f5d6884f24bc335bcb573c354f": {
          "model_module": "@jupyter-widgets/controls",
          "model_name": "HTMLModel",
          "model_module_version": "1.5.0",
          "state": {
            "_dom_classes": [],
            "_model_module": "@jupyter-widgets/controls",
            "_model_module_version": "1.5.0",
            "_model_name": "HTMLModel",
            "_view_count": null,
            "_view_module": "@jupyter-widgets/controls",
            "_view_module_version": "1.5.0",
            "_view_name": "HTMLView",
            "description": "",
            "description_tooltip": null,
            "layout": "IPY_MODEL_61c34637afb340fabdfcde578d81869f",
            "placeholder": "​",
            "style": "IPY_MODEL_4356bb724c2049dba9844c6f00bb0923",
            "value": " 263M/263M [00:01&lt;00:00, 212MB/s]"
          }
        },
        "4f946a3ecf5144abb2d5440ec22197b4": {
          "model_module": "@jupyter-widgets/base",
          "model_name": "LayoutModel",
          "model_module_version": "1.2.0",
          "state": {
            "_model_module": "@jupyter-widgets/base",
            "_model_module_version": "1.2.0",
            "_model_name": "LayoutModel",
            "_view_count": null,
            "_view_module": "@jupyter-widgets/base",
            "_view_module_version": "1.2.0",
            "_view_name": "LayoutView",
            "align_content": null,
            "align_items": null,
            "align_self": null,
            "border": null,
            "bottom": null,
            "display": null,
            "flex": null,
            "flex_flow": null,
            "grid_area": null,
            "grid_auto_columns": null,
            "grid_auto_flow": null,
            "grid_auto_rows": null,
            "grid_column": null,
            "grid_gap": null,
            "grid_row": null,
            "grid_template_areas": null,
            "grid_template_columns": null,
            "grid_template_rows": null,
            "height": null,
            "justify_content": null,
            "justify_items": null,
            "left": null,
            "margin": null,
            "max_height": null,
            "max_width": null,
            "min_height": null,
            "min_width": null,
            "object_fit": null,
            "object_position": null,
            "order": null,
            "overflow": null,
            "overflow_x": null,
            "overflow_y": null,
            "padding": null,
            "right": null,
            "top": null,
            "visibility": null,
            "width": null
          }
        },
        "fefff765fc5548adab1e641c19c789e5": {
          "model_module": "@jupyter-widgets/base",
          "model_name": "LayoutModel",
          "model_module_version": "1.2.0",
          "state": {
            "_model_module": "@jupyter-widgets/base",
            "_model_module_version": "1.2.0",
            "_model_name": "LayoutModel",
            "_view_count": null,
            "_view_module": "@jupyter-widgets/base",
            "_view_module_version": "1.2.0",
            "_view_name": "LayoutView",
            "align_content": null,
            "align_items": null,
            "align_self": null,
            "border": null,
            "bottom": null,
            "display": null,
            "flex": null,
            "flex_flow": null,
            "grid_area": null,
            "grid_auto_columns": null,
            "grid_auto_flow": null,
            "grid_auto_rows": null,
            "grid_column": null,
            "grid_gap": null,
            "grid_row": null,
            "grid_template_areas": null,
            "grid_template_columns": null,
            "grid_template_rows": null,
            "height": null,
            "justify_content": null,
            "justify_items": null,
            "left": null,
            "margin": null,
            "max_height": null,
            "max_width": null,
            "min_height": null,
            "min_width": null,
            "object_fit": null,
            "object_position": null,
            "order": null,
            "overflow": null,
            "overflow_x": null,
            "overflow_y": null,
            "padding": null,
            "right": null,
            "top": null,
            "visibility": null,
            "width": null
          }
        },
        "390341ff35b0428884ed084328445b05": {
          "model_module": "@jupyter-widgets/controls",
          "model_name": "DescriptionStyleModel",
          "model_module_version": "1.5.0",
          "state": {
            "_model_module": "@jupyter-widgets/controls",
            "_model_module_version": "1.5.0",
            "_model_name": "DescriptionStyleModel",
            "_view_count": null,
            "_view_module": "@jupyter-widgets/base",
            "_view_module_version": "1.2.0",
            "_view_name": "StyleView",
            "description_width": ""
          }
        },
        "ec0fa279c51d4b17a8c5b2a2152d4a53": {
          "model_module": "@jupyter-widgets/base",
          "model_name": "LayoutModel",
          "model_module_version": "1.2.0",
          "state": {
            "_model_module": "@jupyter-widgets/base",
            "_model_module_version": "1.2.0",
            "_model_name": "LayoutModel",
            "_view_count": null,
            "_view_module": "@jupyter-widgets/base",
            "_view_module_version": "1.2.0",
            "_view_name": "LayoutView",
            "align_content": null,
            "align_items": null,
            "align_self": null,
            "border": null,
            "bottom": null,
            "display": null,
            "flex": null,
            "flex_flow": null,
            "grid_area": null,
            "grid_auto_columns": null,
            "grid_auto_flow": null,
            "grid_auto_rows": null,
            "grid_column": null,
            "grid_gap": null,
            "grid_row": null,
            "grid_template_areas": null,
            "grid_template_columns": null,
            "grid_template_rows": null,
            "height": null,
            "justify_content": null,
            "justify_items": null,
            "left": null,
            "margin": null,
            "max_height": null,
            "max_width": null,
            "min_height": null,
            "min_width": null,
            "object_fit": null,
            "object_position": null,
            "order": null,
            "overflow": null,
            "overflow_x": null,
            "overflow_y": null,
            "padding": null,
            "right": null,
            "top": null,
            "visibility": null,
            "width": null
          }
        },
        "9e617649f4d846d386f86f1c39b494eb": {
          "model_module": "@jupyter-widgets/controls",
          "model_name": "ProgressStyleModel",
          "model_module_version": "1.5.0",
          "state": {
            "_model_module": "@jupyter-widgets/controls",
            "_model_module_version": "1.5.0",
            "_model_name": "ProgressStyleModel",
            "_view_count": null,
            "_view_module": "@jupyter-widgets/base",
            "_view_module_version": "1.2.0",
            "_view_name": "StyleView",
            "bar_color": null,
            "description_width": ""
          }
        },
        "61c34637afb340fabdfcde578d81869f": {
          "model_module": "@jupyter-widgets/base",
          "model_name": "LayoutModel",
          "model_module_version": "1.2.0",
          "state": {
            "_model_module": "@jupyter-widgets/base",
            "_model_module_version": "1.2.0",
            "_model_name": "LayoutModel",
            "_view_count": null,
            "_view_module": "@jupyter-widgets/base",
            "_view_module_version": "1.2.0",
            "_view_name": "LayoutView",
            "align_content": null,
            "align_items": null,
            "align_self": null,
            "border": null,
            "bottom": null,
            "display": null,
            "flex": null,
            "flex_flow": null,
            "grid_area": null,
            "grid_auto_columns": null,
            "grid_auto_flow": null,
            "grid_auto_rows": null,
            "grid_column": null,
            "grid_gap": null,
            "grid_row": null,
            "grid_template_areas": null,
            "grid_template_columns": null,
            "grid_template_rows": null,
            "height": null,
            "justify_content": null,
            "justify_items": null,
            "left": null,
            "margin": null,
            "max_height": null,
            "max_width": null,
            "min_height": null,
            "min_width": null,
            "object_fit": null,
            "object_position": null,
            "order": null,
            "overflow": null,
            "overflow_x": null,
            "overflow_y": null,
            "padding": null,
            "right": null,
            "top": null,
            "visibility": null,
            "width": null
          }
        },
        "4356bb724c2049dba9844c6f00bb0923": {
          "model_module": "@jupyter-widgets/controls",
          "model_name": "DescriptionStyleModel",
          "model_module_version": "1.5.0",
          "state": {
            "_model_module": "@jupyter-widgets/controls",
            "_model_module_version": "1.5.0",
            "_model_name": "DescriptionStyleModel",
            "_view_count": null,
            "_view_module": "@jupyter-widgets/base",
            "_view_module_version": "1.2.0",
            "_view_name": "StyleView",
            "description_width": ""
          }
        },
        "9028b142194b4119821e00c9e0652146": {
          "model_module": "@jupyter-widgets/controls",
          "model_name": "HBoxModel",
          "model_module_version": "1.5.0",
          "state": {
            "_dom_classes": [],
            "_model_module": "@jupyter-widgets/controls",
            "_model_module_version": "1.5.0",
            "_model_name": "HBoxModel",
            "_view_count": null,
            "_view_module": "@jupyter-widgets/controls",
            "_view_module_version": "1.5.0",
            "_view_name": "HBoxView",
            "box_style": "",
            "children": [
              "IPY_MODEL_78962c6556244ca4b23720052f7feffc",
              "IPY_MODEL_96f514920781408182694c74f5a6b95f",
              "IPY_MODEL_87004db6f0014230bcb36fdf9e971536"
            ],
            "layout": "IPY_MODEL_5d4cf97331ac44769d7375c27e696102"
          }
        },
        "78962c6556244ca4b23720052f7feffc": {
          "model_module": "@jupyter-widgets/controls",
          "model_name": "HTMLModel",
          "model_module_version": "1.5.0",
          "state": {
            "_dom_classes": [],
            "_model_module": "@jupyter-widgets/controls",
            "_model_module_version": "1.5.0",
            "_model_name": "HTMLModel",
            "_view_count": null,
            "_view_module": "@jupyter-widgets/controls",
            "_view_module_version": "1.5.0",
            "_view_name": "HTMLView",
            "description": "",
            "description_tooltip": null,
            "layout": "IPY_MODEL_856ed066ffdc455aab9c288e1f57f09d",
            "placeholder": "​",
            "style": "IPY_MODEL_0b4f3e74a8424958af31c5596cfb6824",
            "value": "tokenizer_config.json: 100%"
          }
        },
        "96f514920781408182694c74f5a6b95f": {
          "model_module": "@jupyter-widgets/controls",
          "model_name": "FloatProgressModel",
          "model_module_version": "1.5.0",
          "state": {
            "_dom_classes": [],
            "_model_module": "@jupyter-widgets/controls",
            "_model_module_version": "1.5.0",
            "_model_name": "FloatProgressModel",
            "_view_count": null,
            "_view_module": "@jupyter-widgets/controls",
            "_view_module_version": "1.5.0",
            "_view_name": "ProgressView",
            "bar_style": "success",
            "description": "",
            "description_tooltip": null,
            "layout": "IPY_MODEL_1e8490bdbe9840e4ba4c5e19687350f1",
            "max": 29,
            "min": 0,
            "orientation": "horizontal",
            "style": "IPY_MODEL_ea6be591e0754fa49b34af51870bf154",
            "value": 29
          }
        },
        "87004db6f0014230bcb36fdf9e971536": {
          "model_module": "@jupyter-widgets/controls",
          "model_name": "HTMLModel",
          "model_module_version": "1.5.0",
          "state": {
            "_dom_classes": [],
            "_model_module": "@jupyter-widgets/controls",
            "_model_module_version": "1.5.0",
            "_model_name": "HTMLModel",
            "_view_count": null,
            "_view_module": "@jupyter-widgets/controls",
            "_view_module_version": "1.5.0",
            "_view_name": "HTMLView",
            "description": "",
            "description_tooltip": null,
            "layout": "IPY_MODEL_423b291daf46498a9e220e6e83a500c1",
            "placeholder": "​",
            "style": "IPY_MODEL_fea16b65d4da4e94ab7f0f26877f4766",
            "value": " 29.0/29.0 [00:00&lt;00:00, 628B/s]"
          }
        },
        "5d4cf97331ac44769d7375c27e696102": {
          "model_module": "@jupyter-widgets/base",
          "model_name": "LayoutModel",
          "model_module_version": "1.2.0",
          "state": {
            "_model_module": "@jupyter-widgets/base",
            "_model_module_version": "1.2.0",
            "_model_name": "LayoutModel",
            "_view_count": null,
            "_view_module": "@jupyter-widgets/base",
            "_view_module_version": "1.2.0",
            "_view_name": "LayoutView",
            "align_content": null,
            "align_items": null,
            "align_self": null,
            "border": null,
            "bottom": null,
            "display": null,
            "flex": null,
            "flex_flow": null,
            "grid_area": null,
            "grid_auto_columns": null,
            "grid_auto_flow": null,
            "grid_auto_rows": null,
            "grid_column": null,
            "grid_gap": null,
            "grid_row": null,
            "grid_template_areas": null,
            "grid_template_columns": null,
            "grid_template_rows": null,
            "height": null,
            "justify_content": null,
            "justify_items": null,
            "left": null,
            "margin": null,
            "max_height": null,
            "max_width": null,
            "min_height": null,
            "min_width": null,
            "object_fit": null,
            "object_position": null,
            "order": null,
            "overflow": null,
            "overflow_x": null,
            "overflow_y": null,
            "padding": null,
            "right": null,
            "top": null,
            "visibility": null,
            "width": null
          }
        },
        "856ed066ffdc455aab9c288e1f57f09d": {
          "model_module": "@jupyter-widgets/base",
          "model_name": "LayoutModel",
          "model_module_version": "1.2.0",
          "state": {
            "_model_module": "@jupyter-widgets/base",
            "_model_module_version": "1.2.0",
            "_model_name": "LayoutModel",
            "_view_count": null,
            "_view_module": "@jupyter-widgets/base",
            "_view_module_version": "1.2.0",
            "_view_name": "LayoutView",
            "align_content": null,
            "align_items": null,
            "align_self": null,
            "border": null,
            "bottom": null,
            "display": null,
            "flex": null,
            "flex_flow": null,
            "grid_area": null,
            "grid_auto_columns": null,
            "grid_auto_flow": null,
            "grid_auto_rows": null,
            "grid_column": null,
            "grid_gap": null,
            "grid_row": null,
            "grid_template_areas": null,
            "grid_template_columns": null,
            "grid_template_rows": null,
            "height": null,
            "justify_content": null,
            "justify_items": null,
            "left": null,
            "margin": null,
            "max_height": null,
            "max_width": null,
            "min_height": null,
            "min_width": null,
            "object_fit": null,
            "object_position": null,
            "order": null,
            "overflow": null,
            "overflow_x": null,
            "overflow_y": null,
            "padding": null,
            "right": null,
            "top": null,
            "visibility": null,
            "width": null
          }
        },
        "0b4f3e74a8424958af31c5596cfb6824": {
          "model_module": "@jupyter-widgets/controls",
          "model_name": "DescriptionStyleModel",
          "model_module_version": "1.5.0",
          "state": {
            "_model_module": "@jupyter-widgets/controls",
            "_model_module_version": "1.5.0",
            "_model_name": "DescriptionStyleModel",
            "_view_count": null,
            "_view_module": "@jupyter-widgets/base",
            "_view_module_version": "1.2.0",
            "_view_name": "StyleView",
            "description_width": ""
          }
        },
        "1e8490bdbe9840e4ba4c5e19687350f1": {
          "model_module": "@jupyter-widgets/base",
          "model_name": "LayoutModel",
          "model_module_version": "1.2.0",
          "state": {
            "_model_module": "@jupyter-widgets/base",
            "_model_module_version": "1.2.0",
            "_model_name": "LayoutModel",
            "_view_count": null,
            "_view_module": "@jupyter-widgets/base",
            "_view_module_version": "1.2.0",
            "_view_name": "LayoutView",
            "align_content": null,
            "align_items": null,
            "align_self": null,
            "border": null,
            "bottom": null,
            "display": null,
            "flex": null,
            "flex_flow": null,
            "grid_area": null,
            "grid_auto_columns": null,
            "grid_auto_flow": null,
            "grid_auto_rows": null,
            "grid_column": null,
            "grid_gap": null,
            "grid_row": null,
            "grid_template_areas": null,
            "grid_template_columns": null,
            "grid_template_rows": null,
            "height": null,
            "justify_content": null,
            "justify_items": null,
            "left": null,
            "margin": null,
            "max_height": null,
            "max_width": null,
            "min_height": null,
            "min_width": null,
            "object_fit": null,
            "object_position": null,
            "order": null,
            "overflow": null,
            "overflow_x": null,
            "overflow_y": null,
            "padding": null,
            "right": null,
            "top": null,
            "visibility": null,
            "width": null
          }
        },
        "ea6be591e0754fa49b34af51870bf154": {
          "model_module": "@jupyter-widgets/controls",
          "model_name": "ProgressStyleModel",
          "model_module_version": "1.5.0",
          "state": {
            "_model_module": "@jupyter-widgets/controls",
            "_model_module_version": "1.5.0",
            "_model_name": "ProgressStyleModel",
            "_view_count": null,
            "_view_module": "@jupyter-widgets/base",
            "_view_module_version": "1.2.0",
            "_view_name": "StyleView",
            "bar_color": null,
            "description_width": ""
          }
        },
        "423b291daf46498a9e220e6e83a500c1": {
          "model_module": "@jupyter-widgets/base",
          "model_name": "LayoutModel",
          "model_module_version": "1.2.0",
          "state": {
            "_model_module": "@jupyter-widgets/base",
            "_model_module_version": "1.2.0",
            "_model_name": "LayoutModel",
            "_view_count": null,
            "_view_module": "@jupyter-widgets/base",
            "_view_module_version": "1.2.0",
            "_view_name": "LayoutView",
            "align_content": null,
            "align_items": null,
            "align_self": null,
            "border": null,
            "bottom": null,
            "display": null,
            "flex": null,
            "flex_flow": null,
            "grid_area": null,
            "grid_auto_columns": null,
            "grid_auto_flow": null,
            "grid_auto_rows": null,
            "grid_column": null,
            "grid_gap": null,
            "grid_row": null,
            "grid_template_areas": null,
            "grid_template_columns": null,
            "grid_template_rows": null,
            "height": null,
            "justify_content": null,
            "justify_items": null,
            "left": null,
            "margin": null,
            "max_height": null,
            "max_width": null,
            "min_height": null,
            "min_width": null,
            "object_fit": null,
            "object_position": null,
            "order": null,
            "overflow": null,
            "overflow_x": null,
            "overflow_y": null,
            "padding": null,
            "right": null,
            "top": null,
            "visibility": null,
            "width": null
          }
        },
        "fea16b65d4da4e94ab7f0f26877f4766": {
          "model_module": "@jupyter-widgets/controls",
          "model_name": "DescriptionStyleModel",
          "model_module_version": "1.5.0",
          "state": {
            "_model_module": "@jupyter-widgets/controls",
            "_model_module_version": "1.5.0",
            "_model_name": "DescriptionStyleModel",
            "_view_count": null,
            "_view_module": "@jupyter-widgets/base",
            "_view_module_version": "1.2.0",
            "_view_name": "StyleView",
            "description_width": ""
          }
        },
        "7652fb5366ff456baf1e01b2b79cbc60": {
          "model_module": "@jupyter-widgets/controls",
          "model_name": "HBoxModel",
          "model_module_version": "1.5.0",
          "state": {
            "_dom_classes": [],
            "_model_module": "@jupyter-widgets/controls",
            "_model_module_version": "1.5.0",
            "_model_name": "HBoxModel",
            "_view_count": null,
            "_view_module": "@jupyter-widgets/controls",
            "_view_module_version": "1.5.0",
            "_view_name": "HBoxView",
            "box_style": "",
            "children": [
              "IPY_MODEL_4b26434fd49b43de9cb9872b3045c00b",
              "IPY_MODEL_4fc5015191aa4ce8851f95233d8f4edd",
              "IPY_MODEL_2337895e0ab04e17b7e5570138abeec3"
            ],
            "layout": "IPY_MODEL_22b3978717de4b318140e155eb302d16"
          }
        },
        "4b26434fd49b43de9cb9872b3045c00b": {
          "model_module": "@jupyter-widgets/controls",
          "model_name": "HTMLModel",
          "model_module_version": "1.5.0",
          "state": {
            "_dom_classes": [],
            "_model_module": "@jupyter-widgets/controls",
            "_model_module_version": "1.5.0",
            "_model_name": "HTMLModel",
            "_view_count": null,
            "_view_module": "@jupyter-widgets/controls",
            "_view_module_version": "1.5.0",
            "_view_name": "HTMLView",
            "description": "",
            "description_tooltip": null,
            "layout": "IPY_MODEL_b2620576141641918825ecf012d67c15",
            "placeholder": "​",
            "style": "IPY_MODEL_5a89040316b748ea8b8d5e48d7d6f021",
            "value": "vocab.txt: 100%"
          }
        },
        "4fc5015191aa4ce8851f95233d8f4edd": {
          "model_module": "@jupyter-widgets/controls",
          "model_name": "FloatProgressModel",
          "model_module_version": "1.5.0",
          "state": {
            "_dom_classes": [],
            "_model_module": "@jupyter-widgets/controls",
            "_model_module_version": "1.5.0",
            "_model_name": "FloatProgressModel",
            "_view_count": null,
            "_view_module": "@jupyter-widgets/controls",
            "_view_module_version": "1.5.0",
            "_view_name": "ProgressView",
            "bar_style": "success",
            "description": "",
            "description_tooltip": null,
            "layout": "IPY_MODEL_7c0e244c925345dbbfa21ba7c48563b7",
            "max": 213450,
            "min": 0,
            "orientation": "horizontal",
            "style": "IPY_MODEL_30c51afb21804721b32b3bcd0a21aca6",
            "value": 213450
          }
        },
        "2337895e0ab04e17b7e5570138abeec3": {
          "model_module": "@jupyter-widgets/controls",
          "model_name": "HTMLModel",
          "model_module_version": "1.5.0",
          "state": {
            "_dom_classes": [],
            "_model_module": "@jupyter-widgets/controls",
            "_model_module_version": "1.5.0",
            "_model_name": "HTMLModel",
            "_view_count": null,
            "_view_module": "@jupyter-widgets/controls",
            "_view_module_version": "1.5.0",
            "_view_name": "HTMLView",
            "description": "",
            "description_tooltip": null,
            "layout": "IPY_MODEL_f12480f1e91c4d6cb9e64caeb83a4053",
            "placeholder": "​",
            "style": "IPY_MODEL_45b45d42ba4742459cf808899723fa1f",
            "value": " 213k/213k [00:00&lt;00:00, 1.54MB/s]"
          }
        },
        "22b3978717de4b318140e155eb302d16": {
          "model_module": "@jupyter-widgets/base",
          "model_name": "LayoutModel",
          "model_module_version": "1.2.0",
          "state": {
            "_model_module": "@jupyter-widgets/base",
            "_model_module_version": "1.2.0",
            "_model_name": "LayoutModel",
            "_view_count": null,
            "_view_module": "@jupyter-widgets/base",
            "_view_module_version": "1.2.0",
            "_view_name": "LayoutView",
            "align_content": null,
            "align_items": null,
            "align_self": null,
            "border": null,
            "bottom": null,
            "display": null,
            "flex": null,
            "flex_flow": null,
            "grid_area": null,
            "grid_auto_columns": null,
            "grid_auto_flow": null,
            "grid_auto_rows": null,
            "grid_column": null,
            "grid_gap": null,
            "grid_row": null,
            "grid_template_areas": null,
            "grid_template_columns": null,
            "grid_template_rows": null,
            "height": null,
            "justify_content": null,
            "justify_items": null,
            "left": null,
            "margin": null,
            "max_height": null,
            "max_width": null,
            "min_height": null,
            "min_width": null,
            "object_fit": null,
            "object_position": null,
            "order": null,
            "overflow": null,
            "overflow_x": null,
            "overflow_y": null,
            "padding": null,
            "right": null,
            "top": null,
            "visibility": null,
            "width": null
          }
        },
        "b2620576141641918825ecf012d67c15": {
          "model_module": "@jupyter-widgets/base",
          "model_name": "LayoutModel",
          "model_module_version": "1.2.0",
          "state": {
            "_model_module": "@jupyter-widgets/base",
            "_model_module_version": "1.2.0",
            "_model_name": "LayoutModel",
            "_view_count": null,
            "_view_module": "@jupyter-widgets/base",
            "_view_module_version": "1.2.0",
            "_view_name": "LayoutView",
            "align_content": null,
            "align_items": null,
            "align_self": null,
            "border": null,
            "bottom": null,
            "display": null,
            "flex": null,
            "flex_flow": null,
            "grid_area": null,
            "grid_auto_columns": null,
            "grid_auto_flow": null,
            "grid_auto_rows": null,
            "grid_column": null,
            "grid_gap": null,
            "grid_row": null,
            "grid_template_areas": null,
            "grid_template_columns": null,
            "grid_template_rows": null,
            "height": null,
            "justify_content": null,
            "justify_items": null,
            "left": null,
            "margin": null,
            "max_height": null,
            "max_width": null,
            "min_height": null,
            "min_width": null,
            "object_fit": null,
            "object_position": null,
            "order": null,
            "overflow": null,
            "overflow_x": null,
            "overflow_y": null,
            "padding": null,
            "right": null,
            "top": null,
            "visibility": null,
            "width": null
          }
        },
        "5a89040316b748ea8b8d5e48d7d6f021": {
          "model_module": "@jupyter-widgets/controls",
          "model_name": "DescriptionStyleModel",
          "model_module_version": "1.5.0",
          "state": {
            "_model_module": "@jupyter-widgets/controls",
            "_model_module_version": "1.5.0",
            "_model_name": "DescriptionStyleModel",
            "_view_count": null,
            "_view_module": "@jupyter-widgets/base",
            "_view_module_version": "1.2.0",
            "_view_name": "StyleView",
            "description_width": ""
          }
        },
        "7c0e244c925345dbbfa21ba7c48563b7": {
          "model_module": "@jupyter-widgets/base",
          "model_name": "LayoutModel",
          "model_module_version": "1.2.0",
          "state": {
            "_model_module": "@jupyter-widgets/base",
            "_model_module_version": "1.2.0",
            "_model_name": "LayoutModel",
            "_view_count": null,
            "_view_module": "@jupyter-widgets/base",
            "_view_module_version": "1.2.0",
            "_view_name": "LayoutView",
            "align_content": null,
            "align_items": null,
            "align_self": null,
            "border": null,
            "bottom": null,
            "display": null,
            "flex": null,
            "flex_flow": null,
            "grid_area": null,
            "grid_auto_columns": null,
            "grid_auto_flow": null,
            "grid_auto_rows": null,
            "grid_column": null,
            "grid_gap": null,
            "grid_row": null,
            "grid_template_areas": null,
            "grid_template_columns": null,
            "grid_template_rows": null,
            "height": null,
            "justify_content": null,
            "justify_items": null,
            "left": null,
            "margin": null,
            "max_height": null,
            "max_width": null,
            "min_height": null,
            "min_width": null,
            "object_fit": null,
            "object_position": null,
            "order": null,
            "overflow": null,
            "overflow_x": null,
            "overflow_y": null,
            "padding": null,
            "right": null,
            "top": null,
            "visibility": null,
            "width": null
          }
        },
        "30c51afb21804721b32b3bcd0a21aca6": {
          "model_module": "@jupyter-widgets/controls",
          "model_name": "ProgressStyleModel",
          "model_module_version": "1.5.0",
          "state": {
            "_model_module": "@jupyter-widgets/controls",
            "_model_module_version": "1.5.0",
            "_model_name": "ProgressStyleModel",
            "_view_count": null,
            "_view_module": "@jupyter-widgets/base",
            "_view_module_version": "1.2.0",
            "_view_name": "StyleView",
            "bar_color": null,
            "description_width": ""
          }
        },
        "f12480f1e91c4d6cb9e64caeb83a4053": {
          "model_module": "@jupyter-widgets/base",
          "model_name": "LayoutModel",
          "model_module_version": "1.2.0",
          "state": {
            "_model_module": "@jupyter-widgets/base",
            "_model_module_version": "1.2.0",
            "_model_name": "LayoutModel",
            "_view_count": null,
            "_view_module": "@jupyter-widgets/base",
            "_view_module_version": "1.2.0",
            "_view_name": "LayoutView",
            "align_content": null,
            "align_items": null,
            "align_self": null,
            "border": null,
            "bottom": null,
            "display": null,
            "flex": null,
            "flex_flow": null,
            "grid_area": null,
            "grid_auto_columns": null,
            "grid_auto_flow": null,
            "grid_auto_rows": null,
            "grid_column": null,
            "grid_gap": null,
            "grid_row": null,
            "grid_template_areas": null,
            "grid_template_columns": null,
            "grid_template_rows": null,
            "height": null,
            "justify_content": null,
            "justify_items": null,
            "left": null,
            "margin": null,
            "max_height": null,
            "max_width": null,
            "min_height": null,
            "min_width": null,
            "object_fit": null,
            "object_position": null,
            "order": null,
            "overflow": null,
            "overflow_x": null,
            "overflow_y": null,
            "padding": null,
            "right": null,
            "top": null,
            "visibility": null,
            "width": null
          }
        },
        "45b45d42ba4742459cf808899723fa1f": {
          "model_module": "@jupyter-widgets/controls",
          "model_name": "DescriptionStyleModel",
          "model_module_version": "1.5.0",
          "state": {
            "_model_module": "@jupyter-widgets/controls",
            "_model_module_version": "1.5.0",
            "_model_name": "DescriptionStyleModel",
            "_view_count": null,
            "_view_module": "@jupyter-widgets/base",
            "_view_module_version": "1.2.0",
            "_view_name": "StyleView",
            "description_width": ""
          }
        },
        "981a1d394fda46f78c58c894126341c4": {
          "model_module": "@jupyter-widgets/controls",
          "model_name": "HBoxModel",
          "model_module_version": "1.5.0",
          "state": {
            "_dom_classes": [],
            "_model_module": "@jupyter-widgets/controls",
            "_model_module_version": "1.5.0",
            "_model_name": "HBoxModel",
            "_view_count": null,
            "_view_module": "@jupyter-widgets/controls",
            "_view_module_version": "1.5.0",
            "_view_name": "HBoxView",
            "box_style": "",
            "children": [
              "IPY_MODEL_5176403fd98047acb0cd77933b1ffa82",
              "IPY_MODEL_09bfdfb266f34d54aabdad41d5fc1017",
              "IPY_MODEL_c571a9783e294bb2910a04ede7ce15ca"
            ],
            "layout": "IPY_MODEL_c9af556971784664af39c5c99038ce1a"
          }
        },
        "5176403fd98047acb0cd77933b1ffa82": {
          "model_module": "@jupyter-widgets/controls",
          "model_name": "HTMLModel",
          "model_module_version": "1.5.0",
          "state": {
            "_dom_classes": [],
            "_model_module": "@jupyter-widgets/controls",
            "_model_module_version": "1.5.0",
            "_model_name": "HTMLModel",
            "_view_count": null,
            "_view_module": "@jupyter-widgets/controls",
            "_view_module_version": "1.5.0",
            "_view_name": "HTMLView",
            "description": "",
            "description_tooltip": null,
            "layout": "IPY_MODEL_86a3f5dc64b84b0f85a8a33fe97344c1",
            "placeholder": "​",
            "style": "IPY_MODEL_15b9dcedc7fa4d2b8cfaf5b63adceaaa",
            "value": "tokenizer.json: 100%"
          }
        },
        "09bfdfb266f34d54aabdad41d5fc1017": {
          "model_module": "@jupyter-widgets/controls",
          "model_name": "FloatProgressModel",
          "model_module_version": "1.5.0",
          "state": {
            "_dom_classes": [],
            "_model_module": "@jupyter-widgets/controls",
            "_model_module_version": "1.5.0",
            "_model_name": "FloatProgressModel",
            "_view_count": null,
            "_view_module": "@jupyter-widgets/controls",
            "_view_module_version": "1.5.0",
            "_view_name": "ProgressView",
            "bar_style": "success",
            "description": "",
            "description_tooltip": null,
            "layout": "IPY_MODEL_d514a198a40d4c68b55738d18f961df0",
            "max": 435797,
            "min": 0,
            "orientation": "horizontal",
            "style": "IPY_MODEL_e31213c584b1466f994e834c84a1102b",
            "value": 435797
          }
        },
        "c571a9783e294bb2910a04ede7ce15ca": {
          "model_module": "@jupyter-widgets/controls",
          "model_name": "HTMLModel",
          "model_module_version": "1.5.0",
          "state": {
            "_dom_classes": [],
            "_model_module": "@jupyter-widgets/controls",
            "_model_module_version": "1.5.0",
            "_model_name": "HTMLModel",
            "_view_count": null,
            "_view_module": "@jupyter-widgets/controls",
            "_view_module_version": "1.5.0",
            "_view_name": "HTMLView",
            "description": "",
            "description_tooltip": null,
            "layout": "IPY_MODEL_4323afb950cf42ce86e79b5a04795652",
            "placeholder": "​",
            "style": "IPY_MODEL_6181eee818754b5cb069ab2425752b07",
            "value": " 436k/436k [00:00&lt;00:00, 2.14MB/s]"
          }
        },
        "c9af556971784664af39c5c99038ce1a": {
          "model_module": "@jupyter-widgets/base",
          "model_name": "LayoutModel",
          "model_module_version": "1.2.0",
          "state": {
            "_model_module": "@jupyter-widgets/base",
            "_model_module_version": "1.2.0",
            "_model_name": "LayoutModel",
            "_view_count": null,
            "_view_module": "@jupyter-widgets/base",
            "_view_module_version": "1.2.0",
            "_view_name": "LayoutView",
            "align_content": null,
            "align_items": null,
            "align_self": null,
            "border": null,
            "bottom": null,
            "display": null,
            "flex": null,
            "flex_flow": null,
            "grid_area": null,
            "grid_auto_columns": null,
            "grid_auto_flow": null,
            "grid_auto_rows": null,
            "grid_column": null,
            "grid_gap": null,
            "grid_row": null,
            "grid_template_areas": null,
            "grid_template_columns": null,
            "grid_template_rows": null,
            "height": null,
            "justify_content": null,
            "justify_items": null,
            "left": null,
            "margin": null,
            "max_height": null,
            "max_width": null,
            "min_height": null,
            "min_width": null,
            "object_fit": null,
            "object_position": null,
            "order": null,
            "overflow": null,
            "overflow_x": null,
            "overflow_y": null,
            "padding": null,
            "right": null,
            "top": null,
            "visibility": null,
            "width": null
          }
        },
        "86a3f5dc64b84b0f85a8a33fe97344c1": {
          "model_module": "@jupyter-widgets/base",
          "model_name": "LayoutModel",
          "model_module_version": "1.2.0",
          "state": {
            "_model_module": "@jupyter-widgets/base",
            "_model_module_version": "1.2.0",
            "_model_name": "LayoutModel",
            "_view_count": null,
            "_view_module": "@jupyter-widgets/base",
            "_view_module_version": "1.2.0",
            "_view_name": "LayoutView",
            "align_content": null,
            "align_items": null,
            "align_self": null,
            "border": null,
            "bottom": null,
            "display": null,
            "flex": null,
            "flex_flow": null,
            "grid_area": null,
            "grid_auto_columns": null,
            "grid_auto_flow": null,
            "grid_auto_rows": null,
            "grid_column": null,
            "grid_gap": null,
            "grid_row": null,
            "grid_template_areas": null,
            "grid_template_columns": null,
            "grid_template_rows": null,
            "height": null,
            "justify_content": null,
            "justify_items": null,
            "left": null,
            "margin": null,
            "max_height": null,
            "max_width": null,
            "min_height": null,
            "min_width": null,
            "object_fit": null,
            "object_position": null,
            "order": null,
            "overflow": null,
            "overflow_x": null,
            "overflow_y": null,
            "padding": null,
            "right": null,
            "top": null,
            "visibility": null,
            "width": null
          }
        },
        "15b9dcedc7fa4d2b8cfaf5b63adceaaa": {
          "model_module": "@jupyter-widgets/controls",
          "model_name": "DescriptionStyleModel",
          "model_module_version": "1.5.0",
          "state": {
            "_model_module": "@jupyter-widgets/controls",
            "_model_module_version": "1.5.0",
            "_model_name": "DescriptionStyleModel",
            "_view_count": null,
            "_view_module": "@jupyter-widgets/base",
            "_view_module_version": "1.2.0",
            "_view_name": "StyleView",
            "description_width": ""
          }
        },
        "d514a198a40d4c68b55738d18f961df0": {
          "model_module": "@jupyter-widgets/base",
          "model_name": "LayoutModel",
          "model_module_version": "1.2.0",
          "state": {
            "_model_module": "@jupyter-widgets/base",
            "_model_module_version": "1.2.0",
            "_model_name": "LayoutModel",
            "_view_count": null,
            "_view_module": "@jupyter-widgets/base",
            "_view_module_version": "1.2.0",
            "_view_name": "LayoutView",
            "align_content": null,
            "align_items": null,
            "align_self": null,
            "border": null,
            "bottom": null,
            "display": null,
            "flex": null,
            "flex_flow": null,
            "grid_area": null,
            "grid_auto_columns": null,
            "grid_auto_flow": null,
            "grid_auto_rows": null,
            "grid_column": null,
            "grid_gap": null,
            "grid_row": null,
            "grid_template_areas": null,
            "grid_template_columns": null,
            "grid_template_rows": null,
            "height": null,
            "justify_content": null,
            "justify_items": null,
            "left": null,
            "margin": null,
            "max_height": null,
            "max_width": null,
            "min_height": null,
            "min_width": null,
            "object_fit": null,
            "object_position": null,
            "order": null,
            "overflow": null,
            "overflow_x": null,
            "overflow_y": null,
            "padding": null,
            "right": null,
            "top": null,
            "visibility": null,
            "width": null
          }
        },
        "e31213c584b1466f994e834c84a1102b": {
          "model_module": "@jupyter-widgets/controls",
          "model_name": "ProgressStyleModel",
          "model_module_version": "1.5.0",
          "state": {
            "_model_module": "@jupyter-widgets/controls",
            "_model_module_version": "1.5.0",
            "_model_name": "ProgressStyleModel",
            "_view_count": null,
            "_view_module": "@jupyter-widgets/base",
            "_view_module_version": "1.2.0",
            "_view_name": "StyleView",
            "bar_color": null,
            "description_width": ""
          }
        },
        "4323afb950cf42ce86e79b5a04795652": {
          "model_module": "@jupyter-widgets/base",
          "model_name": "LayoutModel",
          "model_module_version": "1.2.0",
          "state": {
            "_model_module": "@jupyter-widgets/base",
            "_model_module_version": "1.2.0",
            "_model_name": "LayoutModel",
            "_view_count": null,
            "_view_module": "@jupyter-widgets/base",
            "_view_module_version": "1.2.0",
            "_view_name": "LayoutView",
            "align_content": null,
            "align_items": null,
            "align_self": null,
            "border": null,
            "bottom": null,
            "display": null,
            "flex": null,
            "flex_flow": null,
            "grid_area": null,
            "grid_auto_columns": null,
            "grid_auto_flow": null,
            "grid_auto_rows": null,
            "grid_column": null,
            "grid_gap": null,
            "grid_row": null,
            "grid_template_areas": null,
            "grid_template_columns": null,
            "grid_template_rows": null,
            "height": null,
            "justify_content": null,
            "justify_items": null,
            "left": null,
            "margin": null,
            "max_height": null,
            "max_width": null,
            "min_height": null,
            "min_width": null,
            "object_fit": null,
            "object_position": null,
            "order": null,
            "overflow": null,
            "overflow_x": null,
            "overflow_y": null,
            "padding": null,
            "right": null,
            "top": null,
            "visibility": null,
            "width": null
          }
        },
        "6181eee818754b5cb069ab2425752b07": {
          "model_module": "@jupyter-widgets/controls",
          "model_name": "DescriptionStyleModel",
          "model_module_version": "1.5.0",
          "state": {
            "_model_module": "@jupyter-widgets/controls",
            "_model_module_version": "1.5.0",
            "_model_name": "DescriptionStyleModel",
            "_view_count": null,
            "_view_module": "@jupyter-widgets/base",
            "_view_module_version": "1.2.0",
            "_view_name": "StyleView",
            "description_width": ""
          }
        }
      }
    }
  },
  "nbformat": 4,
  "nbformat_minor": 0
}